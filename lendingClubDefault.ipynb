{
 "cells": [
  {
   "cell_type": "markdown",
   "metadata": {},
   "source": [
    "## Lending club default rate prediction using R\n",
    "----\n",
    "1. The dataset is from lending club official site. (https://www.lendingclub.com/info/download-data.action)  \n",
    "2. These files contain complete loan data for all loans issued through the time period stated, including the current loan status (Current, Late, Fully Paid, etc.) and latest payment information. The file containing loan data through the \"present\" contains complete loan data for all loans issued through the previous completed calendar quarter.  \n",
    "3. I choose 2016Q1 since this will let the loan more time to develop. If you compare with 2018Q1 data, you will find that most of the 2018Q1 data is under 'current' category because these loans are just issued. \n",
    "4. There is another LCDataDictionary.xlsx file on the website to explain each feature in the data set. "
   ]
  },
  {
   "cell_type": "code",
   "execution_count": 31,
   "metadata": {
    "collapsed": true
   },
   "outputs": [],
   "source": [
    "loan <- read.csv('./LoanStats_securev1_2016Q1.csv', header = TRUE, stringsAsFactors = FALSE, skip = 1)"
   ]
  },
  {
   "cell_type": "code",
   "execution_count": null,
   "metadata": {
    "collapsed": true
   },
   "outputs": [],
   "source": [
    "# loanBackUp <- loan"
   ]
  },
  {
   "cell_type": "code",
   "execution_count": 32,
   "metadata": {},
   "outputs": [
    {
     "name": "stderr",
     "output_type": "stream",
     "text": [
      "\n",
      "Attaching package: ‘zoo’\n",
      "\n",
      "The following objects are masked from ‘package:base’:\n",
      "\n",
      "    as.Date, as.Date.numeric\n",
      "\n"
     ]
    }
   ],
   "source": [
    "library(zoo)"
   ]
  },
  {
   "cell_type": "code",
   "execution_count": 33,
   "metadata": {},
   "outputs": [
    {
     "data": {
      "text/html": [
       "<table>\n",
       "<thead><tr><th scope=col>id</th><th scope=col>member_id</th><th scope=col>loan_amnt</th><th scope=col>funded_amnt</th><th scope=col>funded_amnt_inv</th><th scope=col>term</th><th scope=col>int_rate</th><th scope=col>installment</th><th scope=col>grade</th><th scope=col>sub_grade</th><th scope=col>⋯</th><th scope=col>hardship_payoff_balance_amount</th><th scope=col>hardship_last_payment_amount</th><th scope=col>disbursement_method</th><th scope=col>debt_settlement_flag</th><th scope=col>debt_settlement_flag_date</th><th scope=col>settlement_status</th><th scope=col>settlement_date</th><th scope=col>settlement_amount</th><th scope=col>settlement_percentage</th><th scope=col>settlement_term</th></tr></thead>\n",
       "<tbody>\n",
       "\t<tr><td>76003542  </td><td>NA        </td><td>16000     </td><td>16000     </td><td>16000     </td><td> 36 months</td><td>  5.32%   </td><td> 481.84   </td><td>A         </td><td>A1        </td><td>⋯         </td><td>NA        </td><td>NA        </td><td>Cash      </td><td>N         </td><td>          </td><td>          </td><td>          </td><td>NA        </td><td>NA        </td><td>NA        </td></tr>\n",
       "\t<tr><td>76023477  </td><td>NA        </td><td>17000     </td><td>17000     </td><td>17000     </td><td> 36 months</td><td>  9.75%   </td><td> 546.55   </td><td>B         </td><td>B3        </td><td>⋯         </td><td>NA        </td><td>NA        </td><td>Cash      </td><td>N         </td><td>          </td><td>          </td><td>          </td><td>NA        </td><td>NA        </td><td>NA        </td></tr>\n",
       "\t<tr><td>75993535  </td><td>NA        </td><td>15000     </td><td>15000     </td><td>15000     </td><td> 60 months</td><td> 15.31%   </td><td> 359.30   </td><td>C         </td><td>C5        </td><td>⋯         </td><td>NA        </td><td>NA        </td><td>Cash      </td><td>N         </td><td>          </td><td>          </td><td>          </td><td>NA        </td><td>NA        </td><td>NA        </td></tr>\n",
       "\t<tr><td>73458582  </td><td>NA        </td><td> 2425     </td><td> 2425     </td><td> 2425     </td><td> 36 months</td><td> 15.31%   </td><td>  84.44   </td><td>C         </td><td>C5        </td><td>⋯         </td><td>NA        </td><td>NA        </td><td>Cash      </td><td>N         </td><td>          </td><td>          </td><td>          </td><td>NA        </td><td>NA        </td><td>NA        </td></tr>\n",
       "\t<tr><td>73511090  </td><td>NA        </td><td>29900     </td><td>29900     </td><td>29900     </td><td> 36 months</td><td> 12.99%   </td><td>1007.31   </td><td>C         </td><td>C2        </td><td>⋯         </td><td>NA        </td><td>NA        </td><td>Cash      </td><td>N         </td><td>          </td><td>          </td><td>          </td><td>NA        </td><td>NA        </td><td>NA        </td></tr>\n",
       "\t<tr><td>75304067  </td><td>NA        </td><td>12000     </td><td>12000     </td><td>12000     </td><td> 36 months</td><td> 11.99%   </td><td> 398.52   </td><td>C         </td><td>C1        </td><td>⋯         </td><td>NA        </td><td>NA        </td><td>Cash      </td><td>N         </td><td>          </td><td>          </td><td>          </td><td>NA        </td><td>NA        </td><td>NA        </td></tr>\n",
       "</tbody>\n",
       "</table>\n"
      ],
      "text/latex": [
       "\\begin{tabular}{r|lllllllllllllllllllllllllllllllllllllllllllllllllllllllllllllllllllllllllllllllllllllllllllllllllllllllllllllllllllllllllllllllllllllllllllllllllllllll}\n",
       " id & member\\_id & loan\\_amnt & funded\\_amnt & funded\\_amnt\\_inv & term & int\\_rate & installment & grade & sub\\_grade & ⋯ & hardship\\_payoff\\_balance\\_amount & hardship\\_last\\_payment\\_amount & disbursement\\_method & debt\\_settlement\\_flag & debt\\_settlement\\_flag\\_date & settlement\\_status & settlement\\_date & settlement\\_amount & settlement\\_percentage & settlement\\_term\\\\\n",
       "\\hline\n",
       "\t 76003542   & NA         & 16000      & 16000      & 16000      &  36 months &   5.32\\%  &  481.84    & A          & A1         & ⋯          & NA         & NA         & Cash       & N          &            &            &            & NA         & NA         & NA        \\\\\n",
       "\t 76023477   & NA         & 17000      & 17000      & 17000      &  36 months &   9.75\\%  &  546.55    & B          & B3         & ⋯          & NA         & NA         & Cash       & N          &            &            &            & NA         & NA         & NA        \\\\\n",
       "\t 75993535   & NA         & 15000      & 15000      & 15000      &  60 months &  15.31\\%  &  359.30    & C          & C5         & ⋯          & NA         & NA         & Cash       & N          &            &            &            & NA         & NA         & NA        \\\\\n",
       "\t 73458582   & NA         &  2425      &  2425      &  2425      &  36 months &  15.31\\%  &   84.44    & C          & C5         & ⋯          & NA         & NA         & Cash       & N          &            &            &            & NA         & NA         & NA        \\\\\n",
       "\t 73511090   & NA         & 29900      & 29900      & 29900      &  36 months &  12.99\\%  & 1007.31    & C          & C2         & ⋯          & NA         & NA         & Cash       & N          &            &            &            & NA         & NA         & NA        \\\\\n",
       "\t 75304067   & NA         & 12000      & 12000      & 12000      &  36 months &  11.99\\%  &  398.52    & C          & C1         & ⋯          & NA         & NA         & Cash       & N          &            &            &            & NA         & NA         & NA        \\\\\n",
       "\\end{tabular}\n"
      ],
      "text/markdown": [
       "\n",
       "id | member_id | loan_amnt | funded_amnt | funded_amnt_inv | term | int_rate | installment | grade | sub_grade | ⋯ | hardship_payoff_balance_amount | hardship_last_payment_amount | disbursement_method | debt_settlement_flag | debt_settlement_flag_date | settlement_status | settlement_date | settlement_amount | settlement_percentage | settlement_term | \n",
       "|---|---|---|---|---|---|\n",
       "| 76003542   | NA         | 16000      | 16000      | 16000      |  36 months |   5.32%    |  481.84    | A          | A1         | ⋯          | NA         | NA         | Cash       | N          |            |            |            | NA         | NA         | NA         | \n",
       "| 76023477   | NA         | 17000      | 17000      | 17000      |  36 months |   9.75%    |  546.55    | B          | B3         | ⋯          | NA         | NA         | Cash       | N          |            |            |            | NA         | NA         | NA         | \n",
       "| 75993535   | NA         | 15000      | 15000      | 15000      |  60 months |  15.31%    |  359.30    | C          | C5         | ⋯          | NA         | NA         | Cash       | N          |            |            |            | NA         | NA         | NA         | \n",
       "| 73458582   | NA         |  2425      |  2425      |  2425      |  36 months |  15.31%    |   84.44    | C          | C5         | ⋯          | NA         | NA         | Cash       | N          |            |            |            | NA         | NA         | NA         | \n",
       "| 73511090   | NA         | 29900      | 29900      | 29900      |  36 months |  12.99%    | 1007.31    | C          | C2         | ⋯          | NA         | NA         | Cash       | N          |            |            |            | NA         | NA         | NA         | \n",
       "| 75304067   | NA         | 12000      | 12000      | 12000      |  36 months |  11.99%    |  398.52    | C          | C1         | ⋯          | NA         | NA         | Cash       | N          |            |            |            | NA         | NA         | NA         | \n",
       "\n",
       "\n"
      ],
      "text/plain": [
       "  id       member_id loan_amnt funded_amnt funded_amnt_inv term       int_rate\n",
       "1 76003542 NA        16000     16000       16000            36 months   5.32% \n",
       "2 76023477 NA        17000     17000       17000            36 months   9.75% \n",
       "3 75993535 NA        15000     15000       15000            60 months  15.31% \n",
       "4 73458582 NA         2425      2425        2425            36 months  15.31% \n",
       "5 73511090 NA        29900     29900       29900            36 months  12.99% \n",
       "6 75304067 NA        12000     12000       12000            36 months  11.99% \n",
       "  installment grade sub_grade ⋯ hardship_payoff_balance_amount\n",
       "1  481.84     A     A1        ⋯ NA                            \n",
       "2  546.55     B     B3        ⋯ NA                            \n",
       "3  359.30     C     C5        ⋯ NA                            \n",
       "4   84.44     C     C5        ⋯ NA                            \n",
       "5 1007.31     C     C2        ⋯ NA                            \n",
       "6  398.52     C     C1        ⋯ NA                            \n",
       "  hardship_last_payment_amount disbursement_method debt_settlement_flag\n",
       "1 NA                           Cash                N                   \n",
       "2 NA                           Cash                N                   \n",
       "3 NA                           Cash                N                   \n",
       "4 NA                           Cash                N                   \n",
       "5 NA                           Cash                N                   \n",
       "6 NA                           Cash                N                   \n",
       "  debt_settlement_flag_date settlement_status settlement_date settlement_amount\n",
       "1                                                             NA               \n",
       "2                                                             NA               \n",
       "3                                                             NA               \n",
       "4                                                             NA               \n",
       "5                                                             NA               \n",
       "6                                                             NA               \n",
       "  settlement_percentage settlement_term\n",
       "1 NA                    NA             \n",
       "2 NA                    NA             \n",
       "3 NA                    NA             \n",
       "4 NA                    NA             \n",
       "5 NA                    NA             \n",
       "6 NA                    NA             "
      ]
     },
     "metadata": {},
     "output_type": "display_data"
    }
   ],
   "source": [
    "# take a look at the loan data, there are many colunms not shown in here.\n",
    "head(loan)"
   ]
  },
  {
   "cell_type": "code",
   "execution_count": 34,
   "metadata": {},
   "outputs": [
    {
     "data": {
      "text/html": [
       "<table>\n",
       "<thead><tr><th scope=col>issue_d</th><th scope=col>last_pymnt_d</th><th scope=col>next_pymnt_d</th></tr></thead>\n",
       "<tbody>\n",
       "\t<tr><td>Mar-2016</td><td>May-2016</td><td>        </td></tr>\n",
       "\t<tr><td>Mar-2016</td><td>Nov-2017</td><td>Dec-2017</td></tr>\n",
       "\t<tr><td>Mar-2016</td><td>Apr-2017</td><td>        </td></tr>\n",
       "\t<tr><td>Mar-2016</td><td>Dec-2016</td><td>        </td></tr>\n",
       "\t<tr><td>Mar-2016</td><td>Sep-2017</td><td>Dec-2017</td></tr>\n",
       "\t<tr><td>Mar-2016</td><td>Jul-2016</td><td>        </td></tr>\n",
       "</tbody>\n",
       "</table>\n"
      ],
      "text/latex": [
       "\\begin{tabular}{r|lll}\n",
       " issue\\_d & last\\_pymnt\\_d & next\\_pymnt\\_d\\\\\n",
       "\\hline\n",
       "\t Mar-2016 & May-2016 &         \\\\\n",
       "\t Mar-2016 & Nov-2017 & Dec-2017\\\\\n",
       "\t Mar-2016 & Apr-2017 &         \\\\\n",
       "\t Mar-2016 & Dec-2016 &         \\\\\n",
       "\t Mar-2016 & Sep-2017 & Dec-2017\\\\\n",
       "\t Mar-2016 & Jul-2016 &         \\\\\n",
       "\\end{tabular}\n"
      ],
      "text/markdown": [
       "\n",
       "issue_d | last_pymnt_d | next_pymnt_d | \n",
       "|---|---|---|---|---|---|\n",
       "| Mar-2016 | May-2016 |          | \n",
       "| Mar-2016 | Nov-2017 | Dec-2017 | \n",
       "| Mar-2016 | Apr-2017 |          | \n",
       "| Mar-2016 | Dec-2016 |          | \n",
       "| Mar-2016 | Sep-2017 | Dec-2017 | \n",
       "| Mar-2016 | Jul-2016 |          | \n",
       "\n",
       "\n"
      ],
      "text/plain": [
       "  issue_d  last_pymnt_d next_pymnt_d\n",
       "1 Mar-2016 May-2016                 \n",
       "2 Mar-2016 Nov-2017     Dec-2017    \n",
       "3 Mar-2016 Apr-2017                 \n",
       "4 Mar-2016 Dec-2016                 \n",
       "5 Mar-2016 Sep-2017     Dec-2017    \n",
       "6 Mar-2016 Jul-2016                 "
      ]
     },
     "metadata": {},
     "output_type": "display_data"
    }
   ],
   "source": [
    "# Issue date is all in 2016Q1\n",
    "# Notice that there are some missing values in next_pymnt_d column. \n",
    "# This is because these ones are already paid off or charged off.\n",
    "# The date format is not supported by R. We can use zoo lib to transfer them.\n",
    "head(loan[, c('issue_d', 'last_pymnt_d', 'next_pymnt_d')])"
   ]
  },
  {
   "cell_type": "code",
   "execution_count": 35,
   "metadata": {},
   "outputs": [
    {
     "data": {
      "text/html": [
       "<ol class=list-inline>\n",
       "\t<li>48695</li>\n",
       "\t<li>151</li>\n",
       "</ol>\n"
      ],
      "text/latex": [
       "\\begin{enumerate*}\n",
       "\\item 48695\n",
       "\\item 151\n",
       "\\end{enumerate*}\n"
      ],
      "text/markdown": [
       "1. 48695\n",
       "2. 151\n",
       "\n",
       "\n"
      ],
      "text/plain": [
       "[1] 48695   151"
      ]
     },
     "metadata": {},
     "output_type": "display_data"
    },
    {
     "data": {
      "text/plain": [
       "loan_status\n",
       "            Charged Off  Fully Paid \n",
       "          2       13043       35650 "
      ]
     },
     "metadata": {},
     "output_type": "display_data"
    },
    {
     "data": {
      "text/plain": [
       "loan_status\n",
       "            Charged Off \n",
       "          2         148 "
      ]
     },
     "metadata": {},
     "output_type": "display_data"
    }
   ],
   "source": [
    "# take a closer look at the data where next_pymnt_d is empty \n",
    "dim(subset(loan, next_pymnt_d == \"\"))\n",
    "with(subset(loan, next_pymnt_d == \"\"), table(loan_status)) # either charged off or fully paid\n",
    "with(subset(loan, next_pymnt_d == \"\" & last_pymnt_d == \"\"), table(loan_status)) # all charged off"
   ]
  },
  {
   "cell_type": "code",
   "execution_count": 36,
   "metadata": {},
   "outputs": [
    {
     "data": {
      "text/html": [
       "<table>\n",
       "<thead><tr><th></th><th scope=col>id</th><th scope=col>member_id</th><th scope=col>loan_amnt</th><th scope=col>funded_amnt</th><th scope=col>funded_amnt_inv</th><th scope=col>term</th><th scope=col>int_rate</th><th scope=col>installment</th><th scope=col>grade</th><th scope=col>sub_grade</th><th scope=col>⋯</th><th scope=col>hardship_payoff_balance_amount</th><th scope=col>hardship_last_payment_amount</th><th scope=col>disbursement_method</th><th scope=col>debt_settlement_flag</th><th scope=col>debt_settlement_flag_date</th><th scope=col>settlement_status</th><th scope=col>settlement_date</th><th scope=col>settlement_amount</th><th scope=col>settlement_percentage</th><th scope=col>settlement_term</th></tr></thead>\n",
       "<tbody>\n",
       "\t<tr><th scope=row>133888</th><td>Total amount funded in policy code 1: 2087217200</td><td>NA                                              </td><td>NA                                              </td><td>NA                                              </td><td>NA                                              </td><td>                                                </td><td>                                                </td><td>NA                                              </td><td>                                                </td><td>                                                </td><td>⋯                                               </td><td>NA                                              </td><td>NA                                              </td><td>                                                </td><td>                                                </td><td>                                                </td><td>                                                </td><td>                                                </td><td>NA                                              </td><td>NA                                              </td><td>NA                                              </td></tr>\n",
       "\t<tr><th scope=row>133889</th><td>Total amount funded in policy code 2: 662815446 </td><td>NA                                              </td><td>NA                                              </td><td>NA                                              </td><td>NA                                              </td><td>                                                </td><td>                                                </td><td>NA                                              </td><td>                                                </td><td>                                                </td><td>⋯                                               </td><td>NA                                              </td><td>NA                                              </td><td>                                                </td><td>                                                </td><td>                                                </td><td>                                                </td><td>                                                </td><td>NA                                              </td><td>NA                                              </td><td>NA                                              </td></tr>\n",
       "</tbody>\n",
       "</table>\n"
      ],
      "text/latex": [
       "\\begin{tabular}{r|lllllllllllllllllllllllllllllllllllllllllllllllllllllllllllllllllllllllllllllllllllllllllllllllllllllllllllllllllllllllllllllllllllllllllllllllllllllll}\n",
       "  & id & member\\_id & loan\\_amnt & funded\\_amnt & funded\\_amnt\\_inv & term & int\\_rate & installment & grade & sub\\_grade & ⋯ & hardship\\_payoff\\_balance\\_amount & hardship\\_last\\_payment\\_amount & disbursement\\_method & debt\\_settlement\\_flag & debt\\_settlement\\_flag\\_date & settlement\\_status & settlement\\_date & settlement\\_amount & settlement\\_percentage & settlement\\_term\\\\\n",
       "\\hline\n",
       "\t133888 & Total amount funded in policy code 1: 2087217200 & NA                                               & NA                                               & NA                                               & NA                                               &                                                  &                                                  & NA                                               &                                                  &                                                  & ⋯                                                & NA                                               & NA                                               &                                                  &                                                  &                                                  &                                                  &                                                  & NA                                               & NA                                               & NA                                              \\\\\n",
       "\t133889 & Total amount funded in policy code 2: 662815446  & NA                                               & NA                                               & NA                                               & NA                                               &                                                  &                                                  & NA                                               &                                                  &                                                  & ⋯                                                & NA                                               & NA                                               &                                                  &                                                  &                                                  &                                                  &                                                  & NA                                               & NA                                               & NA                                              \\\\\n",
       "\\end{tabular}\n"
      ],
      "text/markdown": [
       "\n",
       "| <!--/--> | id | member_id | loan_amnt | funded_amnt | funded_amnt_inv | term | int_rate | installment | grade | sub_grade | ⋯ | hardship_payoff_balance_amount | hardship_last_payment_amount | disbursement_method | debt_settlement_flag | debt_settlement_flag_date | settlement_status | settlement_date | settlement_amount | settlement_percentage | settlement_term | \n",
       "|---|---|\n",
       "| 133888 | Total amount funded in policy code 1: 2087217200 | NA                                               | NA                                               | NA                                               | NA                                               |                                                  |                                                  | NA                                               |                                                  |                                                  | ⋯                                                | NA                                               | NA                                               |                                                  |                                                  |                                                  |                                                  |                                                  | NA                                               | NA                                               | NA                                               | \n",
       "| 133889 | Total amount funded in policy code 2: 662815446  | NA                                               | NA                                               | NA                                               | NA                                               |                                                  |                                                  | NA                                               |                                                  |                                                  | ⋯                                                | NA                                               | NA                                               |                                                  |                                                  |                                                  |                                                  |                                                  | NA                                               | NA                                               | NA                                               | \n",
       "\n",
       "\n"
      ],
      "text/plain": [
       "       id                                               member_id loan_amnt\n",
       "133888 Total amount funded in policy code 1: 2087217200 NA        NA       \n",
       "133889 Total amount funded in policy code 2: 662815446  NA        NA       \n",
       "       funded_amnt funded_amnt_inv term int_rate installment grade sub_grade ⋯\n",
       "133888 NA          NA                            NA                          ⋯\n",
       "133889 NA          NA                            NA                          ⋯\n",
       "       hardship_payoff_balance_amount hardship_last_payment_amount\n",
       "133888 NA                             NA                          \n",
       "133889 NA                             NA                          \n",
       "       disbursement_method debt_settlement_flag debt_settlement_flag_date\n",
       "133888                                                                   \n",
       "133889                                                                   \n",
       "       settlement_status settlement_date settlement_amount\n",
       "133888                                   NA               \n",
       "133889                                   NA               \n",
       "       settlement_percentage settlement_term\n",
       "133888 NA                    NA             \n",
       "133889 NA                    NA             "
      ]
     },
     "metadata": {},
     "output_type": "display_data"
    }
   ],
   "source": [
    "# Noticed that there are 2 N.A. in the dataset. Let's take a look at them\n",
    "subset(loan, loan_status == \"\")"
   ]
  },
  {
   "cell_type": "code",
   "execution_count": 37,
   "metadata": {
    "collapsed": true
   },
   "outputs": [],
   "source": [
    "# As is seen, these two data points are NULL. We can delte them from data sets.\n",
    "loan <- subset(loan, loan_status != \"\")"
   ]
  },
  {
   "cell_type": "code",
   "execution_count": 38,
   "metadata": {},
   "outputs": [
    {
     "data": {
      "text/plain": [
       "loan_status\n",
       "Charged Off \n",
       "        148 "
      ]
     },
     "metadata": {},
     "output_type": "display_data"
    }
   ],
   "source": [
    "# where last_pymnt_d is empty\n",
    "with(subset(loan, last_pymnt_d == \"\"), table(loan_status))"
   ]
  },
  {
   "cell_type": "code",
   "execution_count": 39,
   "metadata": {},
   "outputs": [
    {
     "data": {
      "text/plain": [
       "\n",
       "Charged Off \n",
       "        148 "
      ]
     },
     "metadata": {},
     "output_type": "display_data"
    },
    {
     "data": {
      "text/plain": [
       "\n",
       "Charged Off  Fully Paid \n",
       "      12895       35650 "
      ]
     },
     "metadata": {},
     "output_type": "display_data"
    },
    {
     "data": {
      "text/plain": [
       "< table of extent 0 >"
      ]
     },
     "metadata": {},
     "output_type": "display_data"
    },
    {
     "data": {
      "text/plain": [
       "\n",
       "           Current            Default    In Grace Period  Late (16-30 days) \n",
       "             79931                 11               1637                458 \n",
       "Late (31-120 days) \n",
       "              3157 "
      ]
     },
     "metadata": {},
     "output_type": "display_data"
    }
   ],
   "source": [
    "# In summary, the next_pymnt_d and last_pymnt_d can give us four combinations depending on their states.\n",
    "\n",
    "# all charged off\n",
    "table(subset(loan, next_pymnt_d == \"\" & last_pymnt_d == \"\")$loan_status)\n",
    "# charged off or fully paid\n",
    "table(subset(loan, next_pymnt_d == \"\" & last_pymnt_d != \"\")$loan_status)\n",
    "# doesn't exist this situation where we don't have last_pymnt_d but have next_pymnt_d\n",
    "table(subset(loan, next_pymnt_d != \"\" & last_pymnt_d == \"\")$loan_status)\n",
    "# normal situation, could be late payment but is still paying\n",
    "table(subset(loan, next_pymnt_d != \"\" & last_pymnt_d != \"\")$loan_status)"
   ]
  },
  {
   "cell_type": "code",
   "execution_count": 40,
   "metadata": {
    "collapsed": true
   },
   "outputs": [],
   "source": [
    "# change the date format to R supported format.\n",
    "loan$issue_d_1 <- as.Date(as.yearmon(loan$issue_d, \"%b-%Y\"))\n",
    "loan$issue_year <- as.character(format(loan$issue_d_1, \"%Y\"))\n",
    "loan$issue_mon <- as.character(format(loan$issue_d_1, \"%m\"))\n",
    "\n",
    "loan$last_pymnt_d_1 <- as.Date(as.yearmon(loan$last_pymnt_d, \"%b-%Y\"))\n",
    "loan$last_pymnt_year <- as.character(format(loan$last_pymnt_d_1, \"%Y\"))\n",
    "loan$last_pymnt_mon <- as.character(format(loan$last_pymnt_d_1, \"%m\"))"
   ]
  },
  {
   "cell_type": "code",
   "execution_count": 41,
   "metadata": {},
   "outputs": [
    {
     "data": {
      "text/plain": [
       "\n",
       "    0    29    31    60    61    90    91    92   121   122   151   152   153 \n",
       "  492   455  1071   786   636   430   339   698  1028   915   659   509   979 \n",
       "  182   184   213   214   243   244   245   274   275   304   305   306   335 \n",
       " 1263  1035  1337  1135   728   661  1149  1288  1144   730   614  1257  1553 \n",
       "  337   365   366   394   396   397   425   426   455   456   457   486   487 \n",
       " 1158  1665  1411  1007  1336   615  1709  1353   863   581  1372  1595  1399 \n",
       "  516   517   518   547   549   578   579   608   609   610   639   670 \n",
       "  905   753  1499  1616  1306  1627  1947  1280   693 39013 25046 19099 "
      ]
     },
     "metadata": {},
     "output_type": "display_data"
    }
   ],
   "source": [
    "# Based on the observations above, \n",
    "# one question I want to explore is that at which phase does the loan more likely to be missed. \n",
    "# I can create a new feature that shows how long the pymnt has been made. \n",
    "\n",
    "loan$last_pymnt_from_issue <- with(loan, last_pymnt_d_1 - issue_d_1)\n",
    "table(loan$last_pymnt_from_issue)"
   ]
  },
  {
   "cell_type": "code",
   "execution_count": 42,
   "metadata": {
    "collapsed": true
   },
   "outputs": [],
   "source": [
    "# As we can see above, there are different days meaning the loan has been paid for 1month, 2 months, ... 1year ... 2years, etc.\n",
    "# we can categorize this into below 90 days, below half year, below 270 days, etc.\n",
    "\n",
    "loan$last_pymnt_from_issue_cat <- with(loan, as.character(cut(as.numeric(last_pymnt_from_issue), \n",
    "                                                              c(-1, 0, 92, 184, 275, 366, 457, 549, 639, 730))))"
   ]
  },
  {
   "cell_type": "code",
   "execution_count": 43,
   "metadata": {},
   "outputs": [
    {
     "data": {
      "text/plain": [
       "\n",
       "   (-1,0]    (0,92] (184,275] (275,366] (366,457] (457,549] (549,639] (639,730] \n",
       "      492      4415      7442      8388      8836      9073     69606     19099 \n",
       " (92,184] \n",
       "     6388 "
      ]
     },
     "metadata": {},
     "output_type": "display_data"
    }
   ],
   "source": [
    "# take a look at the distribution of it\n",
    "table(loan$last_pymnt_from_issue_cat)"
   ]
  },
  {
   "cell_type": "code",
   "execution_count": 44,
   "metadata": {},
   "outputs": [
    {
     "data": {
      "text/html": [
       "<ol class=list-inline>\n",
       "\t<li>133887</li>\n",
       "\t<li>159</li>\n",
       "</ol>\n"
      ],
      "text/latex": [
       "\\begin{enumerate*}\n",
       "\\item 133887\n",
       "\\item 159\n",
       "\\end{enumerate*}\n"
      ],
      "text/markdown": [
       "1. 133887\n",
       "2. 159\n",
       "\n",
       "\n"
      ],
      "text/plain": [
       "[1] 133887    159"
      ]
     },
     "metadata": {},
     "output_type": "display_data"
    },
    {
     "data": {
      "text/html": [
       "133739"
      ],
      "text/latex": [
       "133739"
      ],
      "text/markdown": [
       "133739"
      ],
      "text/plain": [
       "[1] 133739"
      ]
     },
     "metadata": {},
     "output_type": "display_data"
    },
    {
     "data": {
      "text/plain": [
       "\n",
       "    \n",
       "148 "
      ]
     },
     "metadata": {},
     "output_type": "display_data"
    }
   ],
   "source": [
    "# Remember the 148 NA from last_pymnt_d ? table doesn't take the NA into account.\n",
    "# notice that the latter two added up to the first one.\n",
    "dim(loan)\n",
    "sum(table(loan$last_pymnt_from_issue_cat))\n",
    "table(subset(loan, is.na(last_pymnt_from_issue_cat))$last_pymnt_d)"
   ]
  },
  {
   "cell_type": "code",
   "execution_count": 45,
   "metadata": {
    "collapsed": true
   },
   "outputs": [],
   "source": [
    "# create a category for these NA values as no pymnt\n",
    "loan$last_pymnt_from_issue[which(is.na(loan$last_pymnt_from_issue))] <- 2000\n",
    "loan$last_pymnt_from_issue_cat[which(is.na(loan$last_pymnt_from_issue_cat))] <- 'no pymnt'"
   ]
  },
  {
   "cell_type": "code",
   "execution_count": 46,
   "metadata": {
    "collapsed": true
   },
   "outputs": [],
   "source": [
    "# Then if we want to check if last_pymnt_from_issue_cat could be a useful feature:\n",
    "by.pymnt.gap <- with(loan, table(last_pymnt_from_issue_cat, loan_status))\n",
    "by.pymnt.gap <- by.pymnt.gap[c(\"(-1,0]\", \"(0,92]\", \"(92,184]\", \"(184,275]\", \"(275,366]\",\n",
    "                               \"(366,457]\", \"(457,549]\", \"(549,639]\", \"(639,730]\", \"no pymnt\"),\n",
    "                             c(\"Charged Off\", \"Default\", \"Late (31-120 days)\",\n",
    "                               \"Late (16-30 days)\", \"In Grace Period\", \"Current\",\n",
    "                               \"Fully Paid\")]"
   ]
  },
  {
   "cell_type": "code",
   "execution_count": 47,
   "metadata": {},
   "outputs": [
    {
     "data": {
      "text/plain": [
       "                         loan_status\n",
       "last_pymnt_from_issue_cat Charged Off Default Late (31-120 days)\n",
       "                (-1,0]              0       0                  0\n",
       "                (0,92]            939       0                  0\n",
       "                (92,184]         2332       0                  0\n",
       "                (184,275]        2744       0                  0\n",
       "                (275,366]        2789       0                  0\n",
       "                (366,457]        2772       1                  0\n",
       "                (457,549]        1195       9               1625\n",
       "                (549,639]         116       1               1409\n",
       "                (639,730]           8       0                123\n",
       "                no pymnt          148       0                  0\n",
       "                         loan_status\n",
       "last_pymnt_from_issue_cat Late (16-30 days) In Grace Period Current Fully Paid\n",
       "                (-1,0]                    0               0       0        492\n",
       "                (0,92]                    0               0       0       3476\n",
       "                (92,184]                  0               0       0       4056\n",
       "                (184,275]                 0               0       0       4698\n",
       "                (275,366]                 0               0       0       5599\n",
       "                (366,457]                 0               0       0       6063\n",
       "                (457,549]                 0               0       0       6244\n",
       "                (549,639]               440            1468   61393       4779\n",
       "                (639,730]                18             169   18538        243\n",
       "                no pymnt                  0               0       0          0"
      ]
     },
     "metadata": {},
     "output_type": "display_data"
    }
   ],
   "source": [
    "# As seen below, \n",
    "by.pymnt.gap"
   ]
  },
  {
   "cell_type": "code",
   "execution_count": 48,
   "metadata": {},
   "outputs": [
    {
     "data": {
      "text/plain": [
       "                         loan_status\n",
       "last_pymnt_from_issue_cat Charged Off Default Late (31-120 days)\n",
       "                (-1,0]          0.000   0.000              0.000\n",
       "                (0,92]         21.268   0.000              0.000\n",
       "                (92,184]       36.506   0.000              0.000\n",
       "                (184,275]      36.872   0.000              0.000\n",
       "                (275,366]      33.250   0.000              0.000\n",
       "                (366,457]      31.372   0.011              0.000\n",
       "                (457,549]      13.171   0.099             17.910\n",
       "                (549,639]       0.167   0.001              2.024\n",
       "                (639,730]       0.042   0.000              0.644\n",
       "                no pymnt      100.000   0.000              0.000\n",
       "                         loan_status\n",
       "last_pymnt_from_issue_cat Late (16-30 days) In Grace Period Current Fully Paid\n",
       "                (-1,0]                0.000           0.000   0.000    100.000\n",
       "                (0,92]                0.000           0.000   0.000     78.732\n",
       "                (92,184]              0.000           0.000   0.000     63.494\n",
       "                (184,275]             0.000           0.000   0.000     63.128\n",
       "                (275,366]             0.000           0.000   0.000     66.750\n",
       "                (366,457]             0.000           0.000   0.000     68.617\n",
       "                (457,549]             0.000           0.000   0.000     68.820\n",
       "                (549,639]             0.632           2.109  88.201      6.866\n",
       "                (639,730]             0.094           0.885  97.063      1.272\n",
       "                no pymnt              0.000           0.000   0.000      0.000"
      ]
     },
     "metadata": {},
     "output_type": "display_data"
    }
   ],
   "source": [
    "# (-1, 0] cat means that the last payment date is issue date. And As you can see that 100% of this cat are fully paid.\n",
    "# Within the first year, the loan is either fully paid or charged off.\n",
    "# majority of the loan is in current category which is normal. \n",
    "\n",
    "round(100 * by.pymnt.gap / apply(by.pymnt.gap, 1, sum), 3)"
   ]
  },
  {
   "cell_type": "code",
   "execution_count": 49,
   "metadata": {},
   "outputs": [
    {
     "data": {
      "text/plain": [
       "\n",
       "Call:\n",
       "glm(formula = loan_status_binary ~ last_pymnt_from_issue, family = \"binomial\", \n",
       "    data = loan)\n",
       "\n",
       "Deviance Residuals: \n",
       "    Min       1Q   Median       3Q      Max  \n",
       "-1.2127  -0.4252  -0.4236  -0.3773   3.9866  \n",
       "\n",
       "Coefficients:\n",
       "                        Estimate Std. Error  z value Pr(>|z|)    \n",
       "(Intercept)            8.259e-02  1.933e-02    4.274 1.92e-05 ***\n",
       "last_pymnt_from_issue -4.014e-03  4.006e-05 -100.207  < 2e-16 ***\n",
       "---\n",
       "Signif. codes:  0 ‘***’ 0.001 ‘**’ 0.01 ‘*’ 0.05 ‘.’ 0.1 ‘ ’ 1\n",
       "\n",
       "(Dispersion parameter for binomial family taken to be 1)\n",
       "\n",
       "    Null deviance: 106836  on 133886  degrees of freedom\n",
       "Residual deviance:  96924  on 133885  degrees of freedom\n",
       "AIC: 96928\n",
       "\n",
       "Number of Fisher Scoring iterations: 5\n"
      ]
     },
     "metadata": {},
     "output_type": "display_data"
    }
   ],
   "source": [
    "# see if this feature has predictive power\n",
    "loan$loan_status_binary <- as.factor(ifelse(loan$loan_status %in% c('Fully Paid', 'Current'), 'okay', 'past_due'))\n",
    "mod2 <- glm(loan_status_binary ~ last_pymnt_from_issue, loan, family = 'binomial')\n",
    "# consider use piecewise linear regression\n",
    "summary(mod2)"
   ]
  },
  {
   "cell_type": "code",
   "execution_count": 50,
   "metadata": {},
   "outputs": [
    {
     "data": {
      "text/plain": [
       "\n",
       "Call:\n",
       "glm(formula = loan_status_binary ~ last_pymnt_from_issue_cat, \n",
       "    family = \"binomial\", data = loan)\n",
       "\n",
       "Deviance Residuals: \n",
       "    Min       1Q   Median       3Q      Max  \n",
       "-0.9592  -0.3181  -0.3181  -0.1832   2.8619  \n",
       "\n",
       "Coefficients:\n",
       "                                   Estimate Std. Error z value Pr(>|z|)\n",
       "(Intercept)                           15.57     119.63   0.130    0.896\n",
       "last_pymnt_from_issue_cat(-1,0]      -31.13     136.45  -0.228    0.820\n",
       "last_pymnt_from_issue_cat(0,92]      -16.87     119.63  -0.141    0.888\n",
       "last_pymnt_from_issue_cat(184,275]   -16.10     119.63  -0.135    0.893\n",
       "last_pymnt_from_issue_cat(275,366]   -16.26     119.63  -0.136    0.892\n",
       "last_pymnt_from_issue_cat(366,457]   -16.35     119.63  -0.137    0.891\n",
       "last_pymnt_from_issue_cat(457,549]   -16.36     119.63  -0.137    0.891\n",
       "last_pymnt_from_issue_cat(549,639]   -18.52     119.63  -0.155    0.877\n",
       "last_pymnt_from_issue_cat(639,730]   -19.64     119.63  -0.164    0.870\n",
       "last_pymnt_from_issue_cat(92,184]    -16.12     119.63  -0.135    0.893\n",
       "\n",
       "(Dispersion parameter for binomial family taken to be 1)\n",
       "\n",
       "    Null deviance: 106836  on 133886  degrees of freedom\n",
       "Residual deviance:  86272  on 133877  degrees of freedom\n",
       "AIC: 86292\n",
       "\n",
       "Number of Fisher Scoring iterations: 14\n"
      ]
     },
     "metadata": {},
     "output_type": "display_data"
    }
   ],
   "source": [
    "# the results look weird\n",
    "# this is complete or more accurately quasi complete separatable data (no pymnt -> past_due, (-1, 0) -> okay).\n",
    "# MLE for logistic regression doesn't exist in the case of complete or more accurately quasi.\n",
    "\n",
    "loan$last_pymnt_from_issue_cat <- relevel(as.factor(loan$last_pymnt_from_issue_cat), ref = 'no pymnt')\n",
    "loan$loan_status_binary <- as.factor(ifelse(loan$loan_status %in% c('Fully Paid', 'Current'), 'okay', 'past_due'))\n",
    "mod1 <- glm(loan_status_binary ~ last_pymnt_from_issue_cat, loan, family = 'binomial')\n",
    "summary(mod1)"
   ]
  },
  {
   "cell_type": "code",
   "execution_count": 51,
   "metadata": {},
   "outputs": [
    {
     "data": {
      "text/plain": [
       "                  last_pymnt_from_issue_cat\n",
       "loan_status_binary no pymnt (-1,0] (0,92] (184,275] (275,366] (366,457]\n",
       "          okay            0    492   3476      4698      5599      6063\n",
       "          past_due      148      0    939      2744      2789      2773\n",
       "                  last_pymnt_from_issue_cat\n",
       "loan_status_binary (457,549] (549,639] (639,730] (92,184]\n",
       "          okay          6244     66172     18781     4056\n",
       "          past_due      2829      3434       318     2332"
      ]
     },
     "metadata": {},
     "output_type": "display_data"
    }
   ],
   "source": [
    "with(loan, table(loan_status_binary, last_pymnt_from_issue_cat))"
   ]
  },
  {
   "cell_type": "code",
   "execution_count": 52,
   "metadata": {},
   "outputs": [
    {
     "data": {
      "text/plain": [
       "\n",
       "Call:\n",
       "glm(formula = loan_status_binary ~ last_pymnt_from_issue_cat, \n",
       "    family = \"binomial\", data = subset(loan, !last_pymnt_from_issue_cat %in% \n",
       "        c(\"no pymnt\", \"(-1,0]\")))\n",
       "\n",
       "Deviance Residuals: \n",
       "    Min       1Q   Median       3Q      Max  \n",
       "-0.9592  -0.3181  -0.3181  -0.1832   2.8619  \n",
       "\n",
       "Coefficients:\n",
       "                                   Estimate Std. Error z value Pr(>|z|)    \n",
       "(Intercept)                        -1.30882    0.03678  -35.59   <2e-16 ***\n",
       "last_pymnt_from_issue_cat(184,275]  0.77110    0.04393   17.55   <2e-16 ***\n",
       "last_pymnt_from_issue_cat(275,366]  0.61192    0.04347   14.08   <2e-16 ***\n",
       "last_pymnt_from_issue_cat(366,457]  0.52655    0.04334   12.15   <2e-16 ***\n",
       "last_pymnt_from_issue_cat(457,549]  0.51712    0.04320   11.97   <2e-16 ***\n",
       "last_pymnt_from_issue_cat(549,639] -1.64971    0.04073  -40.50   <2e-16 ***\n",
       "last_pymnt_from_issue_cat(639,730] -2.76973    0.06745  -41.06   <2e-16 ***\n",
       "last_pymnt_from_issue_cat(92,184]   0.75535    0.04503   16.77   <2e-16 ***\n",
       "---\n",
       "Signif. codes:  0 ‘***’ 0.001 ‘**’ 0.01 ‘*’ 0.05 ‘.’ 0.1 ‘ ’ 1\n",
       "\n",
       "(Dispersion parameter for binomial family taken to be 1)\n",
       "\n",
       "    Null deviance: 106102  on 133246  degrees of freedom\n",
       "Residual deviance:  86272  on 133239  degrees of freedom\n",
       "AIC: 86288\n",
       "\n",
       "Number of Fisher Scoring iterations: 6\n"
      ]
     },
     "metadata": {},
     "output_type": "display_data"
    }
   ],
   "source": [
    "# update mod1 so that we don't have no pymnt and (-1,0] categories.\n",
    "\n",
    "mod1 <- glm(loan_status_binary ~ last_pymnt_from_issue_cat,\n",
    "            subset(loan, !last_pymnt_from_issue_cat %in% c('no pymnt', '(-1,0]')), family = 'binomial')\n",
    "summary(mod1)\n",
    "# The results look okay now. "
   ]
  },
  {
   "cell_type": "code",
   "execution_count": 53,
   "metadata": {
    "collapsed": true
   },
   "outputs": [],
   "source": [
    "# Next，we can treat all date features in the same way as above. \n",
    "\n",
    "# Find date related features.\n",
    "date.cols <- colnames(loan)[c(which(grepl('_d$', colnames(loan))),\n",
    "                              which(grepl('_date$', colnames(loan))))]\n",
    "# \"issue_d\"                   \"last_pymnt_d\"              \"next_pymnt_d\"             \n",
    "# \"last_credit_pull_d\"        \"hardship_start_date\"       \"hardship_end_date\"        \n",
    "# \"payment_plan_start_date\"   \"debt_settlement_flag_date\" \"settlement_date\"  \n",
    "\n",
    "# update these features to R supported date format\n",
    "for (col_i in date.cols) {\n",
    "  loan[, col_i] <-  as.Date(as.yearmon(loan[, col_i], \"%b-%Y\"))\n",
    "}"
   ]
  },
  {
   "cell_type": "code",
   "execution_count": 54,
   "metadata": {
    "collapsed": true
   },
   "outputs": [],
   "source": [
    "# dates are not helpful when predicting, we will need to transform them into length\n",
    "loan$mths_since_issue <- as.integer((as.Date('2017-11-01') - loan$issue_d) /30)\n",
    "# See if recently there is a credit pull which implies a big event like new loan -> may affect current payment\n",
    "loan$mths_since_last_credit_pull <- as.integer((as.Date('2017-11-01') - loan$last_credit_pull_d) /30)"
   ]
  },
  {
   "cell_type": "code",
   "execution_count": 55,
   "metadata": {
    "collapsed": true
   },
   "outputs": [],
   "source": [
    "# Define a function to turn current dates column into a new category column (since issue date). \n",
    "# This uses the same methodology as last_pymnt_since_issue.\n",
    "\n",
    "TransformToLengthFromIssueDate <- function(loan, col.name, new.col.name, other.level) {\n",
    "  # get difference in months.\n",
    "  loan[, new.col.name] <-\n",
    "    ifelse(is.na(loan[, col.name]), other.level,\n",
    "           as.character(cut(as.integer((loan[, col.name] - loan$issue_d) /30), \n",
    "                            c(min(as.integer((loan[, col.name] - loan$issue_d) /30), na.rm = T) - 1,\n",
    "                              quantile(as.integer((loan[, col.name] - loan$issue_d) /30), c(0.1, 0.9), na.rm = T),\n",
    "                              max(as.integer((loan[, col.name] - loan$issue_d) /30), na.rm = T)))))\n",
    "  return(loan)\n",
    "}"
   ]
  },
  {
   "cell_type": "code",
   "execution_count": 56,
   "metadata": {
    "collapsed": true
   },
   "outputs": [],
   "source": [
    "# use the function to transform date columns\n",
    "loan <- TransformToLengthFromIssueDate(loan, 'hardship_start_date' ,'hardship_since_issue', 'no_hs')\n",
    "loan <- TransformToLengthFromIssueDate(loan, 'settlement_date' ,'settlement_since_issue', 'no_settle')\n",
    "# Drop original dates columns\n",
    "loan <- loan[, -which(colnames(loan) %in% date.cols)]"
   ]
  },
  {
   "cell_type": "code",
   "execution_count": 57,
   "metadata": {},
   "outputs": [
    {
     "data": {
      "text/html": [
       "<ol class=list-inline>\n",
       "\t<li>'id'</li>\n",
       "\t<li>'int_rate'</li>\n",
       "\t<li>'emp_title'</li>\n",
       "\t<li>'url'</li>\n",
       "\t<li>'zip_code'</li>\n",
       "\t<li>'addr_state'</li>\n",
       "\t<li>'earliest_cr_line'</li>\n",
       "\t<li>'revol_util'</li>\n",
       "</ol>\n"
      ],
      "text/latex": [
       "\\begin{enumerate*}\n",
       "\\item 'id'\n",
       "\\item 'int\\_rate'\n",
       "\\item 'emp\\_title'\n",
       "\\item 'url'\n",
       "\\item 'zip\\_code'\n",
       "\\item 'addr\\_state'\n",
       "\\item 'earliest\\_cr\\_line'\n",
       "\\item 'revol\\_util'\n",
       "\\end{enumerate*}\n"
      ],
      "text/markdown": [
       "1. 'id'\n",
       "2. 'int_rate'\n",
       "3. 'emp_title'\n",
       "4. 'url'\n",
       "5. 'zip_code'\n",
       "6. 'addr_state'\n",
       "7. 'earliest_cr_line'\n",
       "8. 'revol_util'\n",
       "\n",
       "\n"
      ],
      "text/plain": [
       "[1] \"id\"               \"int_rate\"         \"emp_title\"        \"url\"             \n",
       "[5] \"zip_code\"         \"addr_state\"       \"earliest_cr_line\" \"revol_util\"      "
      ]
     },
     "metadata": {},
     "output_type": "display_data"
    }
   ],
   "source": [
    "# see how many unique values\n",
    "num.value <- sapply(loan, function(x){return(length(unique(x)))})\n",
    "# find out column is string, and unique values > 50\n",
    "colnames(loan)[intersect(which(sapply(loan, function(x){return(is.character(x))})), \n",
    "                         which(num.value >= 50))]"
   ]
  },
  {
   "cell_type": "code",
   "execution_count": 58,
   "metadata": {},
   "outputs": [
    {
     "data": {
      "text/html": [
       "<ol class=list-inline>\n",
       "\t<li><span style=white-space:pre-wrap>'  5.32%'</span></li>\n",
       "\t<li><span style=white-space:pre-wrap>'  9.75%'</span></li>\n",
       "\t<li>' 15.31%'</li>\n",
       "\t<li>' 15.31%'</li>\n",
       "\t<li>' 12.99%'</li>\n",
       "\t<li>' 11.99%'</li>\n",
       "</ol>\n"
      ],
      "text/latex": [
       "\\begin{enumerate*}\n",
       "\\item '  5.32\\%'\n",
       "\\item '  9.75\\%'\n",
       "\\item ' 15.31\\%'\n",
       "\\item ' 15.31\\%'\n",
       "\\item ' 12.99\\%'\n",
       "\\item ' 11.99\\%'\n",
       "\\end{enumerate*}\n"
      ],
      "text/markdown": [
       "1. <span style=white-space:pre-wrap>'  5.32%'</span>\n",
       "2. <span style=white-space:pre-wrap>'  9.75%'</span>\n",
       "3. ' 15.31%'\n",
       "4. ' 15.31%'\n",
       "5. ' 12.99%'\n",
       "6. ' 11.99%'\n",
       "\n",
       "\n"
      ],
      "text/plain": [
       "[1] \"  5.32%\" \"  9.75%\" \" 15.31%\" \" 15.31%\" \" 12.99%\" \" 11.99%\""
      ]
     },
     "metadata": {},
     "output_type": "display_data"
    },
    {
     "data": {
      "text/html": [
       "<dl class=dl-horizontal>\n",
       "\t<dt>int_rate</dt>\n",
       "\t\t<dd>7</dd>\n",
       "\t<dt>revol_util</dt>\n",
       "\t\t<dd>35</dd>\n",
       "</dl>\n"
      ],
      "text/latex": [
       "\\begin{description*}\n",
       "\\item[int\\textbackslash{}\\_rate] 7\n",
       "\\item[revol\\textbackslash{}\\_util] 35\n",
       "\\end{description*}\n"
      ],
      "text/markdown": [
       "int_rate\n",
       ":   7revol_util\n",
       ":   35\n",
       "\n"
      ],
      "text/plain": [
       "  int_rate revol_util \n",
       "         7         35 "
      ]
     },
     "metadata": {},
     "output_type": "display_data"
    }
   ],
   "source": [
    "# features such as ID has no predictive power, \n",
    "# features like int_rate, revol_util are string due to % sign. change these features to numetical.\n",
    "head(loan$int_rate)\n",
    "which(sapply(loan[1, ], function(x){return(grepl('%', x))}))\n",
    "loan$int_rate <- as.numeric(sapply(strsplit(loan$int_rate, '%'), '[', 1))\n",
    "loan$revol_util <- as.numeric(sapply(strsplit(loan$revol_util, '%'), '[', 1))"
   ]
  },
  {
   "cell_type": "code",
   "execution_count": 59,
   "metadata": {},
   "outputs": [
    {
     "data": {
      "text/html": [
       "<ol class=list-inline>\n",
       "\t<li>5.32</li>\n",
       "\t<li>9.75</li>\n",
       "\t<li>15.31</li>\n",
       "\t<li>15.31</li>\n",
       "\t<li>12.99</li>\n",
       "\t<li>11.99</li>\n",
       "</ol>\n"
      ],
      "text/latex": [
       "\\begin{enumerate*}\n",
       "\\item 5.32\n",
       "\\item 9.75\n",
       "\\item 15.31\n",
       "\\item 15.31\n",
       "\\item 12.99\n",
       "\\item 11.99\n",
       "\\end{enumerate*}\n"
      ],
      "text/markdown": [
       "1. 5.32\n",
       "2. 9.75\n",
       "3. 15.31\n",
       "4. 15.31\n",
       "5. 12.99\n",
       "6. 11.99\n",
       "\n",
       "\n"
      ],
      "text/plain": [
       "[1]  5.32  9.75 15.31 15.31 12.99 11.99"
      ]
     },
     "metadata": {},
     "output_type": "display_data"
    }
   ],
   "source": [
    "head(loan$int_rate)"
   ]
  },
  {
   "cell_type": "code",
   "execution_count": 60,
   "metadata": {
    "collapsed": true
   },
   "outputs": [],
   "source": [
    "# earliest_cr_line is date feature, transfer it to mths_since_crline\n",
    "loan$earliest_cr_line <-  as.Date(as.yearmon(loan$earliest_cr_line, \"%b-%Y\"))\n",
    "loan$mths_since_crline <- as.integer((as.Date('2017-11-01') - loan$earliest_cr_line) /30)"
   ]
  },
  {
   "cell_type": "code",
   "execution_count": 61,
   "metadata": {
    "collapsed": true
   },
   "outputs": [],
   "source": [
    "# For categorical features with too many levels, could collapse levels as we did before.\n",
    "feat.w.many.levels <- colnames(loan)[intersect(which(sapply(loan, function(x) {\n",
    "  return(is.character(x))})),\n",
    "  which(num.value >= 50))]"
   ]
  },
  {
   "cell_type": "code",
   "execution_count": 62,
   "metadata": {},
   "outputs": [
    {
     "data": {
      "text/html": [
       "<ol class=list-inline>\n",
       "\t<li>'id'</li>\n",
       "\t<li>'emp_title'</li>\n",
       "\t<li>'url'</li>\n",
       "\t<li>'zip_code'</li>\n",
       "\t<li>'addr_state'</li>\n",
       "</ol>\n"
      ],
      "text/latex": [
       "\\begin{enumerate*}\n",
       "\\item 'id'\n",
       "\\item 'emp\\_title'\n",
       "\\item 'url'\n",
       "\\item 'zip\\_code'\n",
       "\\item 'addr\\_state'\n",
       "\\end{enumerate*}\n"
      ],
      "text/markdown": [
       "1. 'id'\n",
       "2. 'emp_title'\n",
       "3. 'url'\n",
       "4. 'zip_code'\n",
       "5. 'addr_state'\n",
       "\n",
       "\n"
      ],
      "text/plain": [
       "[1] \"id\"         \"emp_title\"  \"url\"        \"zip_code\"   \"addr_state\""
      ]
     },
     "metadata": {},
     "output_type": "display_data"
    }
   ],
   "source": [
    "# drop these features with too many levels.\n",
    "feat.w.many.levels\n",
    "loan <- loan[, -which(colnames(loan) %in% c(names(which(num.value == 1)), feat.w.many.levels))]"
   ]
  },
  {
   "cell_type": "code",
   "execution_count": null,
   "metadata": {
    "collapsed": true
   },
   "outputs": [],
   "source": [
    "# save.image()"
   ]
  },
  {
   "cell_type": "code",
   "execution_count": 4,
   "metadata": {},
   "outputs": [
    {
     "data": {
      "text/html": [
       "<ol class=list-inline>\n",
       "\t<li>'annual_inc_joint'</li>\n",
       "\t<li>'dti_joint'</li>\n",
       "\t<li>'verification_status_joint'</li>\n",
       "</ol>\n"
      ],
      "text/latex": [
       "\\begin{enumerate*}\n",
       "\\item 'annual\\_inc\\_joint'\n",
       "\\item 'dti\\_joint'\n",
       "\\item 'verification\\_status\\_joint'\n",
       "\\end{enumerate*}\n"
      ],
      "text/markdown": [
       "1. 'annual_inc_joint'\n",
       "2. 'dti_joint'\n",
       "3. 'verification_status_joint'\n",
       "\n",
       "\n"
      ],
      "text/plain": [
       "[1] \"annual_inc_joint\"          \"dti_joint\"                \n",
       "[3] \"verification_status_joint\""
      ]
     },
     "metadata": {},
     "output_type": "display_data"
    }
   ],
   "source": [
    "# Update features to reflect loan is jointly applied\n",
    "\n",
    "colnames(loan)[which(grepl('joint', colnames(loan)))]\n",
    "loan$dti <- ifelse(!is.na(loan$dti_joint), loan$dti_joint, loan$dti)\n",
    "loan$annual_inc <- ifelse(!is.na(loan$annual_inc_joint), loan$annual_inc_joint, loan$annual_inc)\n",
    "loan$verification_status <- ifelse(!is.na(loan$verification_status_joint), loan$verification_status_joint, loan$verification_status)\n",
    "\n",
    "loan <- loan[, -which(grepl('joint', colnames(loan)))]"
   ]
  },
  {
   "cell_type": "code",
   "execution_count": 5,
   "metadata": {},
   "outputs": [
    {
     "data": {
      "text/html": [
       "<dl class=dl-horizontal>\n",
       "\t<dt>orig_projected_additional_accrued_interest</dt>\n",
       "\t\t<dd>133252</dd>\n",
       "\t<dt>deferral_term</dt>\n",
       "\t\t<dd>133113</dd>\n",
       "\t<dt>hardship_amount</dt>\n",
       "\t\t<dd>133113</dd>\n",
       "\t<dt>hardship_length</dt>\n",
       "\t\t<dd>133113</dd>\n",
       "\t<dt>hardship_dpd</dt>\n",
       "\t\t<dd>133113</dd>\n",
       "\t<dt>hardship_payoff_balance_amount</dt>\n",
       "\t\t<dd>133113</dd>\n",
       "\t<dt>hardship_last_payment_amount</dt>\n",
       "\t\t<dd>133113</dd>\n",
       "\t<dt>settlement_amount</dt>\n",
       "\t\t<dd>132800</dd>\n",
       "\t<dt>settlement_percentage</dt>\n",
       "\t\t<dd>132800</dd>\n",
       "\t<dt>settlement_term</dt>\n",
       "\t\t<dd>132800</dd>\n",
       "</dl>\n"
      ],
      "text/latex": [
       "\\begin{description*}\n",
       "\\item[orig\\textbackslash{}\\_projected\\textbackslash{}\\_additional\\textbackslash{}\\_accrued\\textbackslash{}\\_interest] 133252\n",
       "\\item[deferral\\textbackslash{}\\_term] 133113\n",
       "\\item[hardship\\textbackslash{}\\_amount] 133113\n",
       "\\item[hardship\\textbackslash{}\\_length] 133113\n",
       "\\item[hardship\\textbackslash{}\\_dpd] 133113\n",
       "\\item[hardship\\textbackslash{}\\_payoff\\textbackslash{}\\_balance\\textbackslash{}\\_amount] 133113\n",
       "\\item[hardship\\textbackslash{}\\_last\\textbackslash{}\\_payment\\textbackslash{}\\_amount] 133113\n",
       "\\item[settlement\\textbackslash{}\\_amount] 132800\n",
       "\\item[settlement\\textbackslash{}\\_percentage] 132800\n",
       "\\item[settlement\\textbackslash{}\\_term] 132800\n",
       "\\end{description*}\n"
      ],
      "text/markdown": [
       "orig_projected_additional_accrued_interest\n",
       ":   133252deferral_term\n",
       ":   133113hardship_amount\n",
       ":   133113hardship_length\n",
       ":   133113hardship_dpd\n",
       ":   133113hardship_payoff_balance_amount\n",
       ":   133113hardship_last_payment_amount\n",
       ":   133113settlement_amount\n",
       ":   132800settlement_percentage\n",
       ":   132800settlement_term\n",
       ":   132800\n",
       "\n"
      ],
      "text/plain": [
       "orig_projected_additional_accrued_interest \n",
       "                                    133252 \n",
       "                             deferral_term \n",
       "                                    133113 \n",
       "                           hardship_amount \n",
       "                                    133113 \n",
       "                           hardship_length \n",
       "                                    133113 \n",
       "                              hardship_dpd \n",
       "                                    133113 \n",
       "            hardship_payoff_balance_amount \n",
       "                                    133113 \n",
       "              hardship_last_payment_amount \n",
       "                                    133113 \n",
       "                         settlement_amount \n",
       "                                    132800 \n",
       "                     settlement_percentage \n",
       "                                    132800 \n",
       "                           settlement_term \n",
       "                                    132800 "
      ]
     },
     "metadata": {},
     "output_type": "display_data"
    }
   ],
   "source": [
    "# dealing with missing value\n",
    "\n",
    "# top 10 NA columns \n",
    "num.NA <- sort(sapply(loan, function(x) { sum(is.na(x))} ), decreasing = TRUE)\n",
    "sort(num.NA, decreasing = TRUE)[1:10]"
   ]
  },
  {
   "cell_type": "markdown",
   "metadata": {},
   "source": [
    "### From above exploration, we can find that most of the NAs come from hardship and settlement related features.\n",
    "Take a look at the feature dictionary, we found that deferrarl_term is definded as \"Amount of months that the borrower is expected to pay less than the contractual monthly payment amount due to a hardship plan!\" which is inside hardship feature.\n",
    "\n",
    "From lending club website:  \n",
    "Hardship plans allow borrowers to temporarily make interest-only payments to accommodate an unexpected life event. \n",
    "\n",
    "Debt_Settlement_Flag:  \n",
    "whether or not the borrower, who has charged-off, is working with a debt-settlement company.\n",
    "\n",
    "Thus, not all users need these two plans, but these two plans indeed give us more information about the condition of a loan. So even with lots of missing data, I want to keep as much information as possible."
   ]
  },
  {
   "cell_type": "code",
   "execution_count": 6,
   "metadata": {},
   "outputs": [
    {
     "data": {
      "text/html": [
       "<ol class=list-inline>\n",
       "\t<li>'hardship_flag'</li>\n",
       "\t<li>'hardship_type'</li>\n",
       "\t<li>'hardship_reason'</li>\n",
       "\t<li>'hardship_status'</li>\n",
       "\t<li>'hardship_amount'</li>\n",
       "\t<li>'hardship_length'</li>\n",
       "\t<li>'hardship_dpd'</li>\n",
       "\t<li>'hardship_loan_status'</li>\n",
       "\t<li>'hardship_payoff_balance_amount'</li>\n",
       "\t<li>'hardship_last_payment_amount'</li>\n",
       "\t<li>'hardship_since_issue'</li>\n",
       "</ol>\n"
      ],
      "text/latex": [
       "\\begin{enumerate*}\n",
       "\\item 'hardship\\_flag'\n",
       "\\item 'hardship\\_type'\n",
       "\\item 'hardship\\_reason'\n",
       "\\item 'hardship\\_status'\n",
       "\\item 'hardship\\_amount'\n",
       "\\item 'hardship\\_length'\n",
       "\\item 'hardship\\_dpd'\n",
       "\\item 'hardship\\_loan\\_status'\n",
       "\\item 'hardship\\_payoff\\_balance\\_amount'\n",
       "\\item 'hardship\\_last\\_payment\\_amount'\n",
       "\\item 'hardship\\_since\\_issue'\n",
       "\\end{enumerate*}\n"
      ],
      "text/markdown": [
       "1. 'hardship_flag'\n",
       "2. 'hardship_type'\n",
       "3. 'hardship_reason'\n",
       "4. 'hardship_status'\n",
       "5. 'hardship_amount'\n",
       "6. 'hardship_length'\n",
       "7. 'hardship_dpd'\n",
       "8. 'hardship_loan_status'\n",
       "9. 'hardship_payoff_balance_amount'\n",
       "10. 'hardship_last_payment_amount'\n",
       "11. 'hardship_since_issue'\n",
       "\n",
       "\n"
      ],
      "text/plain": [
       " [1] \"hardship_flag\"                  \"hardship_type\"                 \n",
       " [3] \"hardship_reason\"                \"hardship_status\"               \n",
       " [5] \"hardship_amount\"                \"hardship_length\"               \n",
       " [7] \"hardship_dpd\"                   \"hardship_loan_status\"          \n",
       " [9] \"hardship_payoff_balance_amount\" \"hardship_last_payment_amount\"  \n",
       "[11] \"hardship_since_issue\"          "
      ]
     },
     "metadata": {},
     "output_type": "display_data"
    },
    {
     "data": {
      "text/plain": [
       "   Min. 1st Qu.  Median    Mean 3rd Qu.    Max.    NA's \n",
       "  22.92  187.94  357.51  451.39  606.12 1889.97  133252 "
      ]
     },
     "metadata": {},
     "output_type": "display_data"
    }
   ],
   "source": [
    "# check columns with a lot of NA, for example, hardship related features\n",
    "\n",
    "colnames(loan)[which(grepl('hardship', colnames(loan)))]\n",
    "summary(loan$orig_projected_additional_accrued_interest)\n",
    "loan$orig_projected_additional_accrued_interest[which(is.na(loan$orig_projected_additional_accrued_interest))] <- 0"
   ]
  },
  {
   "cell_type": "code",
   "execution_count": 7,
   "metadata": {},
   "outputs": [
    {
     "data": {
      "text/html": [
       "<dl class=dl-horizontal>\n",
       "\t<dt>verification_status</dt>\n",
       "\t\t<dd>131226</dd>\n",
       "\t<dt>desc</dt>\n",
       "\t\t<dd>133877</dd>\n",
       "\t<dt>title</dt>\n",
       "\t\t<dd>10621</dd>\n",
       "\t<dt>settlement_status</dt>\n",
       "\t\t<dd>132800</dd>\n",
       "</dl>\n"
      ],
      "text/latex": [
       "\\begin{description*}\n",
       "\\item[verification\\textbackslash{}\\_status] 131226\n",
       "\\item[desc] 133877\n",
       "\\item[title] 10621\n",
       "\\item[settlement\\textbackslash{}\\_status] 132800\n",
       "\\end{description*}\n"
      ],
      "text/markdown": [
       "verification_status\n",
       ":   131226desc\n",
       ":   133877title\n",
       ":   10621settlement_status\n",
       ":   132800\n",
       "\n"
      ],
      "text/plain": [
       "verification_status                desc               title   settlement_status \n",
       "             131226              133877               10621              132800 "
      ]
     },
     "metadata": {},
     "output_type": "display_data"
    }
   ],
   "source": [
    "# check some columns and find out not only NA but also empty value.\n",
    "# not all users will use hardship program provided by lending club\n",
    "\n",
    "loan$hardship_reason <- ifelse(loan$hardship_reason == '', 'no_hs', loan$hardship_reason)\n",
    "loan$hardship_status <- ifelse(loan$hardship_status == '', 'no_hs', loan$hardship_status)\n",
    "loan$hardship_loan_status <- ifelse(loan$hardship_loan_status == '', 'no_hs', loan$hardship_loan_status)\n",
    "loan$hardship_amount[which(is.na(loan$hardship_amount))] <- 0\n",
    "loan$hardship_dpd[which(is.na(loan$hardship_dpd))] <- 0\n",
    "loan$hardship_payoff_balance_amount[which(is.na(loan$hardship_payoff_balance_amount))] <- 0\n",
    "loan$hardship_last_payment_amount[which(is.na(loan$hardship_last_payment_amount))] <- 0\n",
    "\n",
    "loan <- loan[, -which(colnames(loan) %in% c('deferral_term',\n",
    "                                            'hardship_length', 'hardship_type'))]\n",
    "\n",
    "num.empty <- sapply(loan[, colnames(loan)[which(sapply(loan, function(x){return(is.character(x))}))]],\n",
    "                    function(x){return(length(which(x == \"\")))})\n",
    "num.empty[which(num.empty > 0)]\n",
    "loan <- loan[, -which(colnames(loan) %in% c('verification_status', 'desc', 'title'))] # loan title is not important, will deal with settlement later"
   ]
  },
  {
   "cell_type": "code",
   "execution_count": 8,
   "metadata": {},
   "outputs": [
    {
     "data": {
      "text/html": [
       "<ol class=list-inline>\n",
       "\t<li>'debt_settlement_flag'</li>\n",
       "\t<li>'settlement_status'</li>\n",
       "\t<li>'settlement_amount'</li>\n",
       "\t<li>'settlement_percentage'</li>\n",
       "\t<li>'settlement_term'</li>\n",
       "\t<li>'settlement_since_issue'</li>\n",
       "</ol>\n"
      ],
      "text/latex": [
       "\\begin{enumerate*}\n",
       "\\item 'debt\\_settlement\\_flag'\n",
       "\\item 'settlement\\_status'\n",
       "\\item 'settlement\\_amount'\n",
       "\\item 'settlement\\_percentage'\n",
       "\\item 'settlement\\_term'\n",
       "\\item 'settlement\\_since\\_issue'\n",
       "\\end{enumerate*}\n"
      ],
      "text/markdown": [
       "1. 'debt_settlement_flag'\n",
       "2. 'settlement_status'\n",
       "3. 'settlement_amount'\n",
       "4. 'settlement_percentage'\n",
       "5. 'settlement_term'\n",
       "6. 'settlement_since_issue'\n",
       "\n",
       "\n"
      ],
      "text/plain": [
       "[1] \"debt_settlement_flag\"   \"settlement_status\"      \"settlement_amount\"     \n",
       "[4] \"settlement_percentage\"  \"settlement_term\"        \"settlement_since_issue\""
      ]
     },
     "metadata": {},
     "output_type": "display_data"
    }
   ],
   "source": [
    "colnames(loan)[which(grepl('settlement', colnames(loan)))]"
   ]
  },
  {
   "cell_type": "code",
   "execution_count": 9,
   "metadata": {},
   "outputs": [
    {
     "data": {
      "text/html": [
       "<dl class=dl-horizontal>\n",
       "\t<dt>mths_since_last_record</dt>\n",
       "\t\t<dd>110216</dd>\n",
       "\t<dt>mths_since_recent_bc_dlq</dt>\n",
       "\t\t<dd>100131</dd>\n",
       "\t<dt>mths_since_last_major_derog</dt>\n",
       "\t\t<dd>95813</dd>\n",
       "\t<dt>mths_since_recent_revol_delinq</dt>\n",
       "\t\t<dd>86104</dd>\n",
       "\t<dt>mths_since_last_delinq</dt>\n",
       "\t\t<dd>64565</dd>\n",
       "\t<dt>il_util</dt>\n",
       "\t\t<dd>17879</dd>\n",
       "\t<dt>mths_since_recent_inq</dt>\n",
       "\t\t<dd>13798</dd>\n",
       "\t<dt>num_tl_120dpd_2m</dt>\n",
       "\t\t<dd>7621</dd>\n",
       "\t<dt>mths_since_rcnt_il</dt>\n",
       "\t\t<dd>3701</dd>\n",
       "\t<dt>mo_sin_old_il_acct</dt>\n",
       "\t\t<dd>3646</dd>\n",
       "</dl>\n"
      ],
      "text/latex": [
       "\\begin{description*}\n",
       "\\item[mths\\textbackslash{}\\_since\\textbackslash{}\\_last\\textbackslash{}\\_record] 110216\n",
       "\\item[mths\\textbackslash{}\\_since\\textbackslash{}\\_recent\\textbackslash{}\\_bc\\textbackslash{}\\_dlq] 100131\n",
       "\\item[mths\\textbackslash{}\\_since\\textbackslash{}\\_last\\textbackslash{}\\_major\\textbackslash{}\\_derog] 95813\n",
       "\\item[mths\\textbackslash{}\\_since\\textbackslash{}\\_recent\\textbackslash{}\\_revol\\textbackslash{}\\_delinq] 86104\n",
       "\\item[mths\\textbackslash{}\\_since\\textbackslash{}\\_last\\textbackslash{}\\_delinq] 64565\n",
       "\\item[il\\textbackslash{}\\_util] 17879\n",
       "\\item[mths\\textbackslash{}\\_since\\textbackslash{}\\_recent\\textbackslash{}\\_inq] 13798\n",
       "\\item[num\\textbackslash{}\\_tl\\textbackslash{}\\_120dpd\\textbackslash{}\\_2m] 7621\n",
       "\\item[mths\\textbackslash{}\\_since\\textbackslash{}\\_rcnt\\textbackslash{}\\_il] 3701\n",
       "\\item[mo\\textbackslash{}\\_sin\\textbackslash{}\\_old\\textbackslash{}\\_il\\textbackslash{}\\_acct] 3646\n",
       "\\end{description*}\n"
      ],
      "text/markdown": [
       "mths_since_last_record\n",
       ":   110216mths_since_recent_bc_dlq\n",
       ":   100131mths_since_last_major_derog\n",
       ":   95813mths_since_recent_revol_delinq\n",
       ":   86104mths_since_last_delinq\n",
       ":   64565il_util\n",
       ":   17879mths_since_recent_inq\n",
       ":   13798num_tl_120dpd_2m\n",
       ":   7621mths_since_rcnt_il\n",
       ":   3701mo_sin_old_il_acct\n",
       ":   3646\n",
       "\n"
      ],
      "text/plain": [
       "        mths_since_last_record       mths_since_recent_bc_dlq \n",
       "                        110216                         100131 \n",
       "   mths_since_last_major_derog mths_since_recent_revol_delinq \n",
       "                         95813                          86104 \n",
       "        mths_since_last_delinq                        il_util \n",
       "                         64565                          17879 \n",
       "         mths_since_recent_inq               num_tl_120dpd_2m \n",
       "                         13798                           7621 \n",
       "            mths_since_rcnt_il             mo_sin_old_il_acct \n",
       "                          3701                           3646 "
      ]
     },
     "metadata": {},
     "output_type": "display_data"
    }
   ],
   "source": [
    "# Similarly for settlement\n",
    "\n",
    "loan$settlement_amount[which(is.na(loan$settlement_amount))] <- 0\n",
    "loan$settlement_percentage[which(is.na(loan$settlement_percentage))] <- 0\n",
    "loan$settlement_term[which(is.na(loan$settlement_term))] <- 0\n",
    "loan$settlement_status <- ifelse(is.na(loan$settlement_status), 'no_settlement', loan$settlement_status)\n",
    "\n",
    "num.NA <- sort(sapply(loan, function(x) { sum(is.na(x))} ), decreasing = TRUE)\n",
    "sort(num.NA, decreasing = TRUE)[1:10]"
   ]
  },
  {
   "cell_type": "code",
   "execution_count": 10,
   "metadata": {
    "collapsed": true
   },
   "outputs": [],
   "source": [
    "# deal with mths_since features with NAs.\n",
    "\n",
    "for(col_i in setdiff(names(num.NA)[which(grepl('mths_since', names(num.NA))& num.NA > 0)],\n",
    "                     c('mths_since_issue', 'mths_since_crline', 'mths_since_last_credit_pull'))) {\n",
    "  breaks <- quantile(loan[, col_i], c(0.1, 0.5, 0.9), na.rm = T)\n",
    "  breaks <- c(min(loan[, col_i], na.rm = T) - 1, breaks, max(loan[, col_i], na.rm = T))\n",
    "  loan[, col_i] <- ifelse(is.na(loan[, col_i]),\n",
    "                          'not_avail', as.character(cut(loan[, col_i], breaks = breaks)))\n",
    "}"
   ]
  },
  {
   "cell_type": "code",
   "execution_count": 11,
   "metadata": {},
   "outputs": [
    {
     "data": {
      "text/html": [
       "<dl class=dl-horizontal>\n",
       "\t<dt>il_util</dt>\n",
       "\t\t<dd>17879</dd>\n",
       "\t<dt>num_tl_120dpd_2m</dt>\n",
       "\t\t<dd>7621</dd>\n",
       "\t<dt>mo_sin_old_il_acct</dt>\n",
       "\t\t<dd>3646</dd>\n",
       "\t<dt>bc_util</dt>\n",
       "\t\t<dd>1175</dd>\n",
       "\t<dt>percent_bc_gt_75</dt>\n",
       "\t\t<dd>1129</dd>\n",
       "\t<dt>bc_open_to_buy</dt>\n",
       "\t\t<dd>1111</dd>\n",
       "\t<dt>last_pymnt_d_1</dt>\n",
       "\t\t<dd>148</dd>\n",
       "\t<dt>last_pymnt_year</dt>\n",
       "\t\t<dd>148</dd>\n",
       "\t<dt>last_pymnt_mon</dt>\n",
       "\t\t<dd>148</dd>\n",
       "\t<dt>revol_util</dt>\n",
       "\t\t<dd>71</dd>\n",
       "\t<dt>all_util</dt>\n",
       "\t\t<dd>67</dd>\n",
       "\t<dt>open_acc_6m</dt>\n",
       "\t\t<dd>62</dd>\n",
       "\t<dt>total_cu_tl</dt>\n",
       "\t\t<dd>62</dd>\n",
       "\t<dt>inq_last_12m</dt>\n",
       "\t\t<dd>62</dd>\n",
       "\t<dt>open_act_il</dt>\n",
       "\t\t<dd>61</dd>\n",
       "\t<dt>open_il_12m</dt>\n",
       "\t\t<dd>61</dd>\n",
       "\t<dt>open_il_24m</dt>\n",
       "\t\t<dd>61</dd>\n",
       "\t<dt>total_bal_il</dt>\n",
       "\t\t<dd>61</dd>\n",
       "\t<dt>open_rv_12m</dt>\n",
       "\t\t<dd>61</dd>\n",
       "\t<dt>open_rv_24m</dt>\n",
       "\t\t<dd>61</dd>\n",
       "\t<dt>max_bal_bc</dt>\n",
       "\t\t<dd>61</dd>\n",
       "\t<dt>inq_fi</dt>\n",
       "\t\t<dd>61</dd>\n",
       "\t<dt>mths_since_last_credit_pull</dt>\n",
       "\t\t<dd>2</dd>\n",
       "\t<dt>inq_last_6mths</dt>\n",
       "\t\t<dd>1</dd>\n",
       "</dl>\n"
      ],
      "text/latex": [
       "\\begin{description*}\n",
       "\\item[il\\textbackslash{}\\_util] 17879\n",
       "\\item[num\\textbackslash{}\\_tl\\textbackslash{}\\_120dpd\\textbackslash{}\\_2m] 7621\n",
       "\\item[mo\\textbackslash{}\\_sin\\textbackslash{}\\_old\\textbackslash{}\\_il\\textbackslash{}\\_acct] 3646\n",
       "\\item[bc\\textbackslash{}\\_util] 1175\n",
       "\\item[percent\\textbackslash{}\\_bc\\textbackslash{}\\_gt\\textbackslash{}\\_75] 1129\n",
       "\\item[bc\\textbackslash{}\\_open\\textbackslash{}\\_to\\textbackslash{}\\_buy] 1111\n",
       "\\item[last\\textbackslash{}\\_pymnt\\textbackslash{}\\_d\\textbackslash{}\\_1] 148\n",
       "\\item[last\\textbackslash{}\\_pymnt\\textbackslash{}\\_year] 148\n",
       "\\item[last\\textbackslash{}\\_pymnt\\textbackslash{}\\_mon] 148\n",
       "\\item[revol\\textbackslash{}\\_util] 71\n",
       "\\item[all\\textbackslash{}\\_util] 67\n",
       "\\item[open\\textbackslash{}\\_acc\\textbackslash{}\\_6m] 62\n",
       "\\item[total\\textbackslash{}\\_cu\\textbackslash{}\\_tl] 62\n",
       "\\item[inq\\textbackslash{}\\_last\\textbackslash{}\\_12m] 62\n",
       "\\item[open\\textbackslash{}\\_act\\textbackslash{}\\_il] 61\n",
       "\\item[open\\textbackslash{}\\_il\\textbackslash{}\\_12m] 61\n",
       "\\item[open\\textbackslash{}\\_il\\textbackslash{}\\_24m] 61\n",
       "\\item[total\\textbackslash{}\\_bal\\textbackslash{}\\_il] 61\n",
       "\\item[open\\textbackslash{}\\_rv\\textbackslash{}\\_12m] 61\n",
       "\\item[open\\textbackslash{}\\_rv\\textbackslash{}\\_24m] 61\n",
       "\\item[max\\textbackslash{}\\_bal\\textbackslash{}\\_bc] 61\n",
       "\\item[inq\\textbackslash{}\\_fi] 61\n",
       "\\item[mths\\textbackslash{}\\_since\\textbackslash{}\\_last\\textbackslash{}\\_credit\\textbackslash{}\\_pull] 2\n",
       "\\item[inq\\textbackslash{}\\_last\\textbackslash{}\\_6mths] 1\n",
       "\\end{description*}\n"
      ],
      "text/markdown": [
       "il_util\n",
       ":   17879num_tl_120dpd_2m\n",
       ":   7621mo_sin_old_il_acct\n",
       ":   3646bc_util\n",
       ":   1175percent_bc_gt_75\n",
       ":   1129bc_open_to_buy\n",
       ":   1111last_pymnt_d_1\n",
       ":   148last_pymnt_year\n",
       ":   148last_pymnt_mon\n",
       ":   148revol_util\n",
       ":   71all_util\n",
       ":   67open_acc_6m\n",
       ":   62total_cu_tl\n",
       ":   62inq_last_12m\n",
       ":   62open_act_il\n",
       ":   61open_il_12m\n",
       ":   61open_il_24m\n",
       ":   61total_bal_il\n",
       ":   61open_rv_12m\n",
       ":   61open_rv_24m\n",
       ":   61max_bal_bc\n",
       ":   61inq_fi\n",
       ":   61mths_since_last_credit_pull\n",
       ":   2inq_last_6mths\n",
       ":   1\n",
       "\n"
      ],
      "text/plain": [
       "                    il_util            num_tl_120dpd_2m \n",
       "                      17879                        7621 \n",
       "         mo_sin_old_il_acct                     bc_util \n",
       "                       3646                        1175 \n",
       "           percent_bc_gt_75              bc_open_to_buy \n",
       "                       1129                        1111 \n",
       "             last_pymnt_d_1             last_pymnt_year \n",
       "                        148                         148 \n",
       "             last_pymnt_mon                  revol_util \n",
       "                        148                          71 \n",
       "                   all_util                 open_acc_6m \n",
       "                         67                          62 \n",
       "                total_cu_tl                inq_last_12m \n",
       "                         62                          62 \n",
       "                open_act_il                 open_il_12m \n",
       "                         61                          61 \n",
       "                open_il_24m                total_bal_il \n",
       "                         61                          61 \n",
       "                open_rv_12m                 open_rv_24m \n",
       "                         61                          61 \n",
       "                 max_bal_bc                      inq_fi \n",
       "                         61                          61 \n",
       "mths_since_last_credit_pull              inq_last_6mths \n",
       "                          2                           1 "
      ]
     },
     "metadata": {},
     "output_type": "display_data"
    }
   ],
   "source": [
    "# check NA again\n",
    "\n",
    "num.NA <- sort(sapply(loan, function(x) { sum(is.na(x))} ), decreasing = TRUE)\n",
    "sort(num.NA, decreasing = TRUE)[which(num.NA > 0)]"
   ]
  },
  {
   "cell_type": "code",
   "execution_count": 12,
   "metadata": {},
   "outputs": [
    {
     "data": {
      "text/plain": [
       "   Min. 1st Qu.  Median    Mean 3rd Qu.    Max.    NA's \n",
       " 0.0000  0.0000  0.0000  0.2802  0.0000  8.0000      61 "
      ]
     },
     "metadata": {},
     "output_type": "display_data"
    },
    {
     "data": {
      "text/plain": [
       "   Min. 1st Qu.  Median    Mean 3rd Qu.    Max.    NA's \n",
       "      0       0       0   12246       0  573170      61 "
      ]
     },
     "metadata": {},
     "output_type": "display_data"
    },
    {
     "data": {
      "text/html": [
       "<table>\n",
       "<thead><tr><th></th><th scope=col>il_util</th><th scope=col>total_bal_il</th><th scope=col>total_il_high_credit_limit</th></tr></thead>\n",
       "<tbody>\n",
       "\t<tr><th scope=row>133685</th><td>NA    </td><td>NA    </td><td>     0</td></tr>\n",
       "\t<tr><th scope=row>133744</th><td>NA    </td><td>NA    </td><td>107007</td></tr>\n",
       "\t<tr><th scope=row>133757</th><td>NA    </td><td>NA    </td><td> 20681</td></tr>\n",
       "\t<tr><th scope=row>133780</th><td>NA    </td><td>NA    </td><td> 57524</td></tr>\n",
       "\t<tr><th scope=row>133788</th><td>NA    </td><td>NA    </td><td>     0</td></tr>\n",
       "\t<tr><th scope=row>133825</th><td>NA    </td><td>NA    </td><td> 15075</td></tr>\n",
       "</tbody>\n",
       "</table>\n"
      ],
      "text/latex": [
       "\\begin{tabular}{r|lll}\n",
       "  & il\\_util & total\\_bal\\_il & total\\_il\\_high\\_credit\\_limit\\\\\n",
       "\\hline\n",
       "\t133685 & NA     & NA     &      0\\\\\n",
       "\t133744 & NA     & NA     & 107007\\\\\n",
       "\t133757 & NA     & NA     &  20681\\\\\n",
       "\t133780 & NA     & NA     &  57524\\\\\n",
       "\t133788 & NA     & NA     &      0\\\\\n",
       "\t133825 & NA     & NA     &  15075\\\\\n",
       "\\end{tabular}\n"
      ],
      "text/markdown": [
       "\n",
       "| <!--/--> | il_util | total_bal_il | total_il_high_credit_limit | \n",
       "|---|---|---|---|---|---|\n",
       "| 133685 | NA     | NA     |      0 | \n",
       "| 133744 | NA     | NA     | 107007 | \n",
       "| 133757 | NA     | NA     |  20681 | \n",
       "| 133780 | NA     | NA     |  57524 | \n",
       "| 133788 | NA     | NA     |      0 | \n",
       "| 133825 | NA     | NA     |  15075 | \n",
       "\n",
       "\n"
      ],
      "text/plain": [
       "       il_util total_bal_il total_il_high_credit_limit\n",
       "133685 NA      NA                0                    \n",
       "133744 NA      NA           107007                    \n",
       "133757 NA      NA            20681                    \n",
       "133780 NA      NA            57524                    \n",
       "133788 NA      NA                0                    \n",
       "133825 NA      NA            15075                    "
      ]
     },
     "metadata": {},
     "output_type": "display_data"
    }
   ],
   "source": [
    "# Deal with il_util feature. From the dictionary, \n",
    "# il_util defined as : Ratio of total current balance to high credit/credit limit on all install acct\n",
    "# Thus il_util = total_bal_il / total_il_high_credit_limit\n",
    "\n",
    "# il_util is na may due to no open account (no total_balance_il). \n",
    "summary(subset(loan, is.na(il_util))$open_act_il)\n",
    "summary(subset(loan, is.na(il_util))$total_bal_il)\n",
    "head(loan[which(is.na(loan$open_act_il)),\n",
    "          c('il_util', 'total_bal_il', 'total_il_high_credit_limit')])"
   ]
  },
  {
   "cell_type": "code",
   "execution_count": 13,
   "metadata": {},
   "outputs": [
    {
     "data": {
      "text/plain": [
       "   Min. 1st Qu.  Median    Mean 3rd Qu.    Max. \n",
       "      0       0       0   15053       0  808529 "
      ]
     },
     "metadata": {},
     "output_type": "display_data"
    },
    {
     "data": {
      "text/html": [
       "<table>\n",
       "<thead><tr><th></th><th scope=col>il_util</th><th scope=col>total_bal_il</th><th scope=col>total_il_high_credit_limit</th></tr></thead>\n",
       "<tbody>\n",
       "\t<tr><th scope=row>32</th><td>NA    </td><td> 18037</td><td> 38597</td></tr>\n",
       "\t<tr><th scope=row>49</th><td>NA    </td><td> 29852</td><td> 35854</td></tr>\n",
       "\t<tr><th scope=row>75</th><td>NA    </td><td> 65278</td><td> 75300</td></tr>\n",
       "\t<tr><th scope=row>80</th><td>NA    </td><td> 30356</td><td> 36715</td></tr>\n",
       "\t<tr><th scope=row>91</th><td>NA    </td><td>238537</td><td>243588</td></tr>\n",
       "\t<tr><th scope=row>150</th><td>NA    </td><td> 41240</td><td> 42525</td></tr>\n",
       "</tbody>\n",
       "</table>\n"
      ],
      "text/latex": [
       "\\begin{tabular}{r|lll}\n",
       "  & il\\_util & total\\_bal\\_il & total\\_il\\_high\\_credit\\_limit\\\\\n",
       "\\hline\n",
       "\t32 & NA     &  18037 &  38597\\\\\n",
       "\t49 & NA     &  29852 &  35854\\\\\n",
       "\t75 & NA     &  65278 &  75300\\\\\n",
       "\t80 & NA     &  30356 &  36715\\\\\n",
       "\t91 & NA     & 238537 & 243588\\\\\n",
       "\t150 & NA     &  41240 &  42525\\\\\n",
       "\\end{tabular}\n"
      ],
      "text/markdown": [
       "\n",
       "| <!--/--> | il_util | total_bal_il | total_il_high_credit_limit | \n",
       "|---|---|---|---|---|---|\n",
       "| 32 | NA     |  18037 |  38597 | \n",
       "| 49 | NA     |  29852 |  35854 | \n",
       "| 75 | NA     |  65278 |  75300 | \n",
       "| 80 | NA     |  30356 |  36715 | \n",
       "| 91 | NA     | 238537 | 243588 | \n",
       "| 150 | NA     |  41240 |  42525 | \n",
       "\n",
       "\n"
      ],
      "text/plain": [
       "    il_util total_bal_il total_il_high_credit_limit\n",
       "32  NA       18037        38597                    \n",
       "49  NA       29852        35854                    \n",
       "75  NA       65278        75300                    \n",
       "80  NA       30356        36715                    \n",
       "91  NA      238537       243588                    \n",
       "150 NA       41240        42525                    "
      ]
     },
     "metadata": {},
     "output_type": "display_data"
    }
   ],
   "source": [
    "# Simiarly for the total_il_high_credit_limit is NA. \n",
    "with(subset(loan, is.na(il_util)), summary(total_il_high_credit_limit))\n",
    "\n",
    "# Lastly, il_util is NA, but balance & credit_limit are not NA.\n",
    "head(loan[which(is.na(loan$il_util) & loan$total_il_high_credit_limit != 0),\n",
    "          c('il_util', 'total_bal_il', 'total_il_high_credit_limit')])"
   ]
  },
  {
   "cell_type": "code",
   "execution_count": 14,
   "metadata": {},
   "outputs": [
    {
     "data": {
      "text/plain": [
       "   Min. 1st Qu.  Median    Mean 3rd Qu.    Max.    NA's \n",
       "      0       0       0       0       0       0      11 "
      ]
     },
     "metadata": {},
     "output_type": "display_data"
    },
    {
     "data": {
      "text/plain": [
       "\n",
       "(-0.01,32]    (32,96]   (96,558]      no_il \n",
       "     12318      97285      10636      13648 "
      ]
     },
     "metadata": {},
     "output_type": "display_data"
    }
   ],
   "source": [
    "# update il_util\n",
    "\n",
    "loan$il_util <- ifelse(is.na(loan$il_util) & loan$total_il_high_credit_limit != 0, \n",
    "                       loan$total_bal_il/ loan$total_il_high_credit_limit, loan$il_util)\n",
    "summary(subset(loan, is.na(il_util) & total_il_high_credit_limit == 0)$open_act_il)\n",
    "loan$il_util <-  ifelse(is.na(loan$il_util), 'no_il',\n",
    "                        as.character(cut(loan$il_util, \n",
    "                                         c(min(loan$il_util, na.rm = T) - 0.01,\n",
    "                                           quantile(loan$il_util, na.rm = T, c(0.1, 0.9)),\n",
    "                                           max(loan$il_util, na.rm = T)))))\n",
    "table(loan$il_util)"
   ]
  },
  {
   "cell_type": "code",
   "execution_count": 15,
   "metadata": {
    "collapsed": true
   },
   "outputs": [],
   "source": [
    "# Similarly to mo_sin_old_il_acct\n",
    "\n",
    "loan$mo_sin_old_il_acct <-  ifelse(is.na(loan$mo_sin_old_il_acct), 'no_il',\n",
    "                                   as.character(cut(loan$mo_sin_old_il_acct, \n",
    "                                                    c(min(loan$mo_sin_old_il_acct, na.rm = T) - 0.01,\n",
    "                                                      quantile(loan$mo_sin_old_il_acct, na.rm = T, c(0.1, 0.9)),\n",
    "                                                      max(loan$mo_sin_old_il_acct, na.rm = T)))))"
   ]
  },
  {
   "cell_type": "code",
   "execution_count": 16,
   "metadata": {},
   "outputs": [
    {
     "data": {
      "text/plain": [
       "   Min. 1st Qu.  Median    Mean 3rd Qu.    Max. \n",
       "    1.0     9.0    12.0    13.3    17.0    51.0 "
      ]
     },
     "metadata": {},
     "output_type": "display_data"
    },
    {
     "data": {
      "text/plain": [
       "    Min.  1st Qu.   Median     Mean  3rd Qu.     Max. \n",
       "0.000000 0.000000 0.000000 0.005773 0.000000 2.000000 "
      ]
     },
     "metadata": {},
     "output_type": "display_data"
    }
   ],
   "source": [
    "# Now num_tl_120dpd_2m feature. \n",
    "# According to the dictionary, num_tl_120dpd_2m: Number of accounts currently 120 days past due (updated in past 2 months)\n",
    "\n",
    "summary(subset(loan, is.na(num_tl_120dpd_2m))$open_acc) # just to make sure that the account is not NA.\n",
    "with(subset(loan, is.na(num_tl_120dpd_2m)), summary(num_tl_30dpd))\n",
    "loan$num_tl_120dpd_2m <- ifelse(is.na(loan$num_tl_120dpd_2m), 0, loan$num_tl_120dpd_2m)"
   ]
  },
  {
   "cell_type": "code",
   "execution_count": 17,
   "metadata": {
    "collapsed": true
   },
   "outputs": [],
   "source": [
    "# the rest ones, NA is not significant. Use median to fill NA.\n",
    "\n",
    "num.NA <- sort(sapply(loan, function(x) { sum(is.na(x))} ), decreasing = TRUE)\n",
    "for(col_i in names(num.NA)[num.NA > 0]) {\n",
    "  loan[, col_i] <- ifelse(is.na(loan[, col_i]), median(loan[, col_i], na.rm = T), loan[, col_i])\n",
    "}"
   ]
  },
  {
   "cell_type": "code",
   "execution_count": 18,
   "metadata": {},
   "outputs": [
    {
     "data": {
      "text/html": [
       "<ol class=list-inline>\n",
       "\t<li>133887</li>\n",
       "\t<li>126</li>\n",
       "</ol>\n"
      ],
      "text/latex": [
       "\\begin{enumerate*}\n",
       "\\item 133887\n",
       "\\item 126\n",
       "\\end{enumerate*}\n"
      ],
      "text/markdown": [
       "1. 133887\n",
       "2. 126\n",
       "\n",
       "\n"
      ],
      "text/plain": [
       "[1] 133887    126"
      ]
     },
     "metadata": {},
     "output_type": "display_data"
    }
   ],
   "source": [
    "dim(loan)"
   ]
  },
  {
   "cell_type": "code",
   "execution_count": 19,
   "metadata": {
    "collapsed": true
   },
   "outputs": [],
   "source": [
    "# There are still a lot of features. Use t-test and p-value to select numeric features.\n",
    "\n",
    "# add and drop some features. \n",
    "loan <- loan[, -which(colnames(loan) %in% c('grade', 'int_rate', 'sub_grade', 'policy_code'))]\n",
    "# fully paid and current -> Okay, otherwise -> past_due\n",
    "loan$loan_status_binary <- as.factor(ifelse(loan$loan_status %in% c('Fully Paid', 'Current'), 'okay', 'past_due'))\n",
    "loan$loan_status_binary <- relevel(loan$loan_status_binary, ref = \"okay\")\n",
    "\n",
    "numeric.feats <- colnames(loan)[which(sapply(loan, function(x){return(is.numeric(x))}))]\n",
    "for(col_i in numeric.feats) {\n",
    "  formula = paste(col_i, \" ~ loan_status_binary\")\n",
    "  p.val <- t.test(as.formula(formula), data = loan)$p.value\n",
    "  if(p.val >= 0.05) { # t-test 95% confidence internal not significant\n",
    "    loan[, col_i] <- NULL\n",
    "  }\n",
    "}"
   ]
  },
  {
   "cell_type": "code",
   "execution_count": 23,
   "metadata": {},
   "outputs": [
    {
     "data": {
      "text/html": [
       "<ol class=list-inline>\n",
       "\t<li>133887</li>\n",
       "\t<li>115</li>\n",
       "</ol>\n"
      ],
      "text/latex": [
       "\\begin{enumerate*}\n",
       "\\item 133887\n",
       "\\item 115\n",
       "\\end{enumerate*}\n"
      ],
      "text/markdown": [
       "1. 133887\n",
       "2. 115\n",
       "\n",
       "\n"
      ],
      "text/plain": [
       "[1] 133887    115"
      ]
     },
     "metadata": {},
     "output_type": "display_data"
    }
   ],
   "source": [
    "dim(loan)"
   ]
  },
  {
   "cell_type": "code",
   "execution_count": 24,
   "metadata": {},
   "outputs": [
    {
     "name": "stderr",
     "output_type": "stream",
     "text": [
      "Warning message in chisq.test(x = loan[, col_i], y = loan$loan_status_binary):\n",
      "“Chi-squared approximation may be incorrect”Warning message in chisq.test(x = loan[, col_i], y = loan$loan_status_binary):\n",
      "“Chi-squared approximation may be incorrect”Warning message in chisq.test(x = loan[, col_i], y = loan$loan_status_binary):\n",
      "“Chi-squared approximation may be incorrect”"
     ]
    }
   ],
   "source": [
    "# Similarly, use chi-squre to select category features\n",
    "\n",
    "cat.feats <- colnames(loan)[which(sapply(loan, function(x){return(is.character(x))}))]\n",
    "cat.feats <- setdiff(cat.feats, 'loan_status_binary')\n",
    "for(col_i in cat.feats) {\n",
    "  p.val <- chisq.test(x = loan[, col_i], y = loan$loan_status_binary)$p.value\n",
    "  if(p.val >= 0.05) {\n",
    "    loan[, col_i] <- NULL\n",
    "  }\n",
    "}"
   ]
  },
  {
   "cell_type": "code",
   "execution_count": 25,
   "metadata": {},
   "outputs": [
    {
     "data": {
      "text/html": [
       "<ol class=list-inline>\n",
       "\t<li>133887</li>\n",
       "\t<li>113</li>\n",
       "</ol>\n"
      ],
      "text/latex": [
       "\\begin{enumerate*}\n",
       "\\item 133887\n",
       "\\item 113\n",
       "\\end{enumerate*}\n"
      ],
      "text/markdown": [
       "1. 133887\n",
       "2. 113\n",
       "\n",
       "\n"
      ],
      "text/plain": [
       "[1] 133887    113"
      ]
     },
     "metadata": {},
     "output_type": "display_data"
    }
   ],
   "source": [
    "dim(loan)"
   ]
  },
  {
   "cell_type": "code",
   "execution_count": 28,
   "metadata": {
    "collapsed": true
   },
   "outputs": [],
   "source": [
    "# deal with fico features, no need to have too many features.\n",
    "\n",
    "loan$fico_range_high <- NULL\n",
    "loan$fico_range_low <- NULL\n",
    "loan$last_fico <- with(loan, (last_fico_range_high + last_fico_range_low)/2)\n",
    "loan$last_fico_range_high <- loan$last_fico_range_low <- NULL\n",
    "loan$emp_length <- ifelse(loan$emp_length == 'n/a', loan$emp_length,\n",
    "                          ifelse(loan$emp_length %in% c('< 1 year', '1 year', '2 years', '3 years'),\n",
    "                                 '< 3 years', ifelse(loan$emp_length %in% c('4 years', '5 years', '6 years', '7 years'), \n",
    "                                                     '4-7 years', '> 8 years')))"
   ]
  },
  {
   "cell_type": "code",
   "execution_count": 29,
   "metadata": {
    "collapsed": true
   },
   "outputs": [],
   "source": [
    "# save data to local csv file for backup.\n",
    "# write.csv(loan ,'loan_feature_fin.csv')"
   ]
  },
  {
   "cell_type": "markdown",
   "metadata": {},
   "source": [
    "### Build classification models using the data above.  \n",
    "1. Random forest trees  \n",
    "2. SVM  \n",
    "3. Logistic regression using lib glmnet.\n"
   ]
  },
  {
   "cell_type": "markdown",
   "metadata": {},
   "source": [
    "### Split data into training and testing sets. And normalize all training data."
   ]
  },
  {
   "cell_type": "code",
   "execution_count": null,
   "metadata": {
    "collapsed": true
   },
   "outputs": [],
   "source": [
    "set.seed(1)\n",
    "train.ind <- sample(1:dim(loan)[1], 0.7* dim(loan)[1])\n",
    "train <- loan[train.ind, ]\n",
    "test <- loan[-train.ind, ]\n",
    "\n",
    "numeric.feats <- colnames(loan)[which(sapply(loan, function(x){return(is.numeric(x))}))]\n",
    "train.sub <- train\n",
    "train.sub.scale <- train.sub\n",
    "# normalize input numerical features\n",
    "for (col_i in numeric.feats){\n",
    "  train.sub.scale[, c(col_i)] <- scale(train.sub.scale[, c(col_i)])\n",
    "}\n",
    "# normalize testing data\n",
    "test.sub <- test\n",
    "test.sub.scale <- test.sub\n",
    "for (col_i in numeric.feats){\n",
    "  test.sub.scale[, c(col_i)] <- scale(test.sub.scale[, c(col_i)])\n",
    "}"
   ]
  },
  {
   "cell_type": "markdown",
   "metadata": {},
   "source": [
    "### Random Forest Trees"
   ]
  },
  {
   "cell_type": "code",
   "execution_count": null,
   "metadata": {
    "collapsed": true
   },
   "outputs": [],
   "source": [
    "require(randomForest)\n",
    "library(pROC)\n",
    "ind.rf = train.sub.scale[, -which(colnames(train) %in% c('loan_status_binary', 'loan_status'))]\n",
    "colnames(ind.rf)\n",
    "dep <- train$loan_status_binary\n",
    "dep.test <- test.sub.scale$loan_status_binary\n",
    "\n",
    "ind.rf2 <- ind.rf\n",
    "ind.rf2 <- as.data.frame(unclass(ind.rf2))\n",
    "\n",
    "rf.mod = randomForest(dep[1:10000] ~ ., data=ind.rf2[1:10000, ], ntree = 200, importance=TRUE)\n",
    "\n",
    "ind.test.rf = test.sub.scale[, -which(colnames(train) %in% c('loan_status_binary', 'loan_status'))]\n",
    "ind.test.rf <- as.data.frame(unclass(ind.test.rf))\n",
    "pred.rf <- predict(rf.mod, ind.test.rf[1:10000,], type=\"prob\")\n",
    "pred.rf[,1][1:10]\n",
    "res.rf <- roc(dep.test[1:10000], pred.rf[,1])\n",
    "dep.test[1:10]\n",
    "plot(res.rf)\n",
    "auc(res.rf)"
   ]
  },
  {
   "cell_type": "markdown",
   "metadata": {},
   "source": [
    "The ROC curve looks like below with area under curve (AUC) = 0.9822\n",
    "![RF ROC](./RF_confusion_matrix.png)"
   ]
  },
  {
   "cell_type": "markdown",
   "metadata": {},
   "source": [
    "### SVM"
   ]
  },
  {
   "cell_type": "code",
   "execution_count": null,
   "metadata": {
    "collapsed": true
   },
   "outputs": [],
   "source": [
    "# SVM\n",
    "library(\"e1071\")\n",
    "svm.model <- svm(dep[1:10000] ~ ., data = ind.rf2[1:10000, ], \n",
    "                 method=\"C-classification\", kernel=\"radial\", probability=TRUE)\n",
    "svm.model\n",
    "pred.svm1 <- predict(svm.model, ind.test.rf[1:10000,], probability=TRUE)\n",
    "head(pred.svm1)\n",
    "table(pred.svm1, dep.test[1:10000])\n",
    "# res.svm1 <- roc(dep.test[1:10000], pred.svm1)"
   ]
  },
  {
   "cell_type": "markdown",
   "metadata": {},
   "source": [
    "Call:\n",
    "svm(formula = dep[1:10000] ~ ., data = ind.rf2[1:10000, \n",
    "    ], probability = TRUE)\n",
    "\n",
    "\n",
    "Parameters:\n",
    "   SVM-Type:  C-classification \n",
    " SVM-Kernel:  radial \n",
    "       cost:  1 \n",
    "      gamma:  0.005347594 \n",
    "\n",
    "Number of Support Vectors:  1386\n"
   ]
  },
  {
   "cell_type": "markdown",
   "metadata": {},
   "source": [
    "pred.svm1  okay past_due\n",
    "  okay     8562      104\n",
    "  past_due   50     1284"
   ]
  },
  {
   "cell_type": "markdown",
   "metadata": {},
   "source": [
    "### Logistic regression using Glmnet"
   ]
  },
  {
   "cell_type": "code",
   "execution_count": null,
   "metadata": {
    "collapsed": true
   },
   "outputs": [],
   "source": [
    "library(glmnet)\n",
    "# binary model\n",
    "ind <- sparse.model.matrix( ~. , train.sub.scale[, -which(colnames(train) %in% c('loan_status_binary', 'loan_status'))])\n",
    "dep <- train$loan_status_binary\n",
    "cv.mod <- cv.glmnet(ind[1:10000, ], dep[1:10000], family = 'binomial')\n",
    "plot(cv.mod)\n"
   ]
  },
  {
   "cell_type": "markdown",
   "metadata": {},
   "source": [
    "![glmnet lambda](./glmnet_lambda1.png)"
   ]
  },
  {
   "cell_type": "code",
   "execution_count": null,
   "metadata": {
    "collapsed": true
   },
   "outputs": [],
   "source": [
    "ind.test <- sparse.model.matrix( ~. , test.sub.scale[, -which(colnames(train) %in% c('loan_status_binary', 'loan_status'))])\n",
    "dep.test <- test.sub.scale$loan_status_binary\n",
    "pred <- predict(cv.mod, ind.test[1:10000,])\n",
    "res <- roc(dep.test[1:10000], pred)\n",
    "auc(res)\n",
    "plot(res)"
   ]
  },
  {
   "cell_type": "markdown",
   "metadata": {},
   "source": [
    "AUC = 0.9919\n",
    "![ROC_glmnet](./ROC_glmnet.png)"
   ]
  },
  {
   "cell_type": "markdown",
   "metadata": {},
   "source": [
    "#### Training with all data using glmnet. "
   ]
  },
  {
   "cell_type": "code",
   "execution_count": null,
   "metadata": {
    "collapsed": true
   },
   "outputs": [],
   "source": [
    "# tain on all data\n",
    "cv2.mod <- cv.glmnet(ind, dep, family = 'binomial')\n",
    "plot(cv2.mod)\n",
    "\n",
    "pred2 <- predict(cv2.mod, ind.test)\n",
    "res2 <- roc(dep.test, pred2)\n",
    "auc(res2)\n",
    "plot(res2)"
   ]
  },
  {
   "cell_type": "markdown",
   "metadata": {},
   "source": [
    "Lambda\n",
    "![lambda](./glmnet_lambda2.png)\n",
    "AUC = 0.9931\n",
    "![ROC glmnet2](./ROC_full_data.png)"
   ]
  },
  {
   "cell_type": "code",
   "execution_count": null,
   "metadata": {
    "collapsed": true
   },
   "outputs": [],
   "source": []
  }
 ],
 "metadata": {
  "anaconda-cloud": {},
  "kernelspec": {
   "display_name": "R",
   "language": "R",
   "name": "ir"
  },
  "language_info": {
   "codemirror_mode": "r",
   "file_extension": ".r",
   "mimetype": "text/x-r-source",
   "name": "R",
   "pygments_lexer": "r",
   "version": "3.4.4"
  }
 },
 "nbformat": 4,
 "nbformat_minor": 2
}
